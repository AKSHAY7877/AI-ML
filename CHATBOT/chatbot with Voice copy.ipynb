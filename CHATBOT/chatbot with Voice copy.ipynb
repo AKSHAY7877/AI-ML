{
 "cells": [
  {
   "cell_type": "code",
   "execution_count": 17,
   "metadata": {},
   "outputs": [],
   "source": [
    "import warnings\n",
    "warnings.filterwarnings('ignore')\n",
    "\n",
    "import speech_recognition as sr\n",
    "import pyttsx3\n",
    "import random\n",
    "\n",
    "from transformers import pipeline\n",
    "from transformers import AutoTokenizer\n",
    "from transformers import AutoModel\n",
    "\n",
    "# from gtts import gTTS\n",
    "# import os\n",
    "# from playsound import playsound  "
   ]
  },
  {
   "cell_type": "code",
   "execution_count": 40,
   "metadata": {},
   "outputs": [],
   "source": [
    "mic = sr.Microphone(device_index=1)\n",
    "engine = pyttsx3.init()\n",
    "engine.setProperty(\"rate\", 135)  "
   ]
  },
  {
   "cell_type": "code",
   "execution_count": 19,
   "metadata": {},
   "outputs": [],
   "source": [
    "def capture_audio():\n",
    "    recognizer = sr.Recognizer()\n",
    "    with sr.Microphone() as source:\n",
    "        print(\"Listening...\")\n",
    "        recognizer.adjust_for_ambient_noise(source, duration=0.2)\n",
    "        audio = recognizer.listen(source)\n",
    "        # audio = rec.listen(mic, phrase_time_limit=3, timeout=5)\n",
    "    return audio"
   ]
  },
  {
   "cell_type": "code",
   "execution_count": 20,
   "metadata": {},
   "outputs": [],
   "source": [
    "def audio_to_text(audio_data):\n",
    "    recognizer = sr.Recognizer()\n",
    "    try:\n",
    "        text = recognizer.recognize_google(audio_data)\n",
    "        return text\n",
    "    except sr.UnknownValueError:\n",
    "        print(\"Sorry, I could not understand what you said.\")\n",
    "        return \"\"\n",
    "    except sr.RequestError:\n",
    "        print(\"There was an error connecting to the Google Speech Recognition API.\")\n",
    "        return \"\""
   ]
  },
  {
   "cell_type": "code",
   "execution_count": 21,
   "metadata": {},
   "outputs": [],
   "source": [
    "\n",
    "qa_model = pipeline(\"question-answering\", model=\"distilbert-base-cased-distilled-squad\")\n",
    "language = 'en'"
   ]
  },
  {
   "cell_type": "code",
   "execution_count": 46,
   "metadata": {},
   "outputs": [],
   "source": [
    "GREET_INPUTS = (\"hello alex\", \"hi alex\", \"greetings alex\", \"greeting alex\", \"sup alex\", \"whats up alex\",\"hey alex\", \"ok alex\")\n",
    "GREET_RESPONSES = [\"hi, buddy\", \"hey, buddy\", \"welcomeback! buddy\", \"let's, talk to me\", \"I am glad! You are talking to me\"]\n",
    "\n",
    "EXIT_INPUTS = (\"by alex\", \"byy alex\", \"bye alex\", \"exit alex\", \"by by alex\", \"byby alex\", \"thanks alex\", \"thank you alex\", \"thank alex\")\n",
    "EXIT_RESPONSES = [\"thanks for using me\", \"it's nice having you\", \"i had a good time with you\", \"sayonara\"]"
   ]
  },
  {
   "cell_type": "code",
   "execution_count": 55,
   "metadata": {},
   "outputs": [
    {
     "name": "stdout",
     "output_type": "stream",
     "text": [
      "Listening...\n",
      "you said:  ok alex who is the prime minister of india\n",
      "{'score': 0.8460768461227417, 'start': 76, 'end': 91, 'answer': 'Indrajeet sinha'}\n",
      "Model predicted:  Indrajeet sinha\n",
      "\n",
      "Listening...\n",
      "you said:  ok alex tell me something about akshay sharma live\n",
      "{'score': 0.3314257264137268, 'start': 1, 'end': 26, 'answer': 'you are an AI voice model'}\n",
      "Model predicted:  you are an AI voice model\n",
      "\n",
      "Listening...\n",
      "you said:  ok alex tell me akshay sharma is married or not\n",
      "{'score': 0.21723201870918274, 'start': 1, 'end': 26, 'answer': 'you are an AI voice model'}\n",
      "Model predicted:  you are an AI voice model\n",
      "\n",
      "Listening...\n",
      "you said:  ok alex tell me akshay sharma college\n",
      "{'score': 0.18595458567142487, 'start': 1, 'end': 26, 'answer': 'you are an AI voice model'}\n",
      "Model predicted:  you are an AI voice model\n",
      "\n",
      "Listening...\n",
      "Sorry, I could not understand what you said.\n",
      "Listening...\n",
      "you said:  ok let's who is the developer of alex\n",
      "Listening...\n",
      "you said:  ok alex who is the developer of air was model\n",
      "{'score': 0.43293336033821106, 'start': 40, 'end': 53, 'answer': 'akshay sharma'}\n",
      "Model predicted:  akshay sharma\n",
      "\n",
      "Listening...\n"
     ]
    },
    {
     "ename": "KeyboardInterrupt",
     "evalue": "",
     "output_type": "error",
     "traceback": [
      "\u001b[1;31m---------------------------------------------------------------------------\u001b[0m",
      "\u001b[1;31mKeyboardInterrupt\u001b[0m                         Traceback (most recent call last)",
      "Cell \u001b[1;32mIn[55], line 8\u001b[0m\n\u001b[0;32m      6\u001b[0m \u001b[39mwhile\u001b[39;00m \u001b[39mTrue\u001b[39;00m:\n\u001b[0;32m      7\u001b[0m     text_output \u001b[39m=\u001b[39m \u001b[39m\"\u001b[39m\u001b[39m\"\u001b[39m\n\u001b[1;32m----> 8\u001b[0m     audio_data \u001b[39m=\u001b[39m capture_audio()\n\u001b[0;32m      9\u001b[0m     text_output \u001b[39m=\u001b[39m audio_to_text(audio_data)\u001b[39m.\u001b[39mlower()\n\u001b[0;32m     11\u001b[0m     \u001b[39mif\u001b[39;00m  text_output \u001b[39m!=\u001b[39m \u001b[39m\"\u001b[39m\u001b[39m\"\u001b[39m:\n",
      "Cell \u001b[1;32mIn[19], line 6\u001b[0m, in \u001b[0;36mcapture_audio\u001b[1;34m()\u001b[0m\n\u001b[0;32m      4\u001b[0m     \u001b[39mprint\u001b[39m(\u001b[39m\"\u001b[39m\u001b[39mListening...\u001b[39m\u001b[39m\"\u001b[39m)\n\u001b[0;32m      5\u001b[0m     recognizer\u001b[39m.\u001b[39madjust_for_ambient_noise(source, duration\u001b[39m=\u001b[39m\u001b[39m0.2\u001b[39m)\n\u001b[1;32m----> 6\u001b[0m     audio \u001b[39m=\u001b[39m recognizer\u001b[39m.\u001b[39;49mlisten(source)\n\u001b[0;32m      7\u001b[0m     \u001b[39m# audio = rec.listen(mic, phrase_time_limit=3, timeout=5)\u001b[39;00m\n\u001b[0;32m      8\u001b[0m \u001b[39mreturn\u001b[39;00m audio\n",
      "File \u001b[1;32mc:\\Users\\Akshay\\anaconda3\\lib\\site-packages\\speech_recognition\\__init__.py:523\u001b[0m, in \u001b[0;36mRecognizer.listen\u001b[1;34m(self, source, timeout, phrase_time_limit, snowboy_configuration)\u001b[0m\n\u001b[0;32m    520\u001b[0m \u001b[39mif\u001b[39;00m phrase_time_limit \u001b[39mand\u001b[39;00m elapsed_time \u001b[39m-\u001b[39m phrase_start_time \u001b[39m>\u001b[39m phrase_time_limit:\n\u001b[0;32m    521\u001b[0m     \u001b[39mbreak\u001b[39;00m\n\u001b[1;32m--> 523\u001b[0m buffer \u001b[39m=\u001b[39m source\u001b[39m.\u001b[39;49mstream\u001b[39m.\u001b[39;49mread(source\u001b[39m.\u001b[39;49mCHUNK)\n\u001b[0;32m    524\u001b[0m \u001b[39mif\u001b[39;00m \u001b[39mlen\u001b[39m(buffer) \u001b[39m==\u001b[39m \u001b[39m0\u001b[39m: \u001b[39mbreak\u001b[39;00m  \u001b[39m# reached end of the stream\u001b[39;00m\n\u001b[0;32m    525\u001b[0m frames\u001b[39m.\u001b[39mappend(buffer)\n",
      "File \u001b[1;32mc:\\Users\\Akshay\\anaconda3\\lib\\site-packages\\speech_recognition\\__init__.py:199\u001b[0m, in \u001b[0;36mMicrophone.MicrophoneStream.read\u001b[1;34m(self, size)\u001b[0m\n\u001b[0;32m    198\u001b[0m \u001b[39mdef\u001b[39;00m \u001b[39mread\u001b[39m(\u001b[39mself\u001b[39m, size):\n\u001b[1;32m--> 199\u001b[0m     \u001b[39mreturn\u001b[39;00m \u001b[39mself\u001b[39;49m\u001b[39m.\u001b[39;49mpyaudio_stream\u001b[39m.\u001b[39;49mread(size, exception_on_overflow\u001b[39m=\u001b[39;49m\u001b[39mFalse\u001b[39;49;00m)\n",
      "File \u001b[1;32m~\\AppData\\Roaming\\Python\\Python310\\site-packages\\pyaudio\\__init__.py:570\u001b[0m, in \u001b[0;36mPyAudio.Stream.read\u001b[1;34m(self, num_frames, exception_on_overflow)\u001b[0m\n\u001b[0;32m    567\u001b[0m \u001b[39mif\u001b[39;00m \u001b[39mnot\u001b[39;00m \u001b[39mself\u001b[39m\u001b[39m.\u001b[39m_is_input:\n\u001b[0;32m    568\u001b[0m     \u001b[39mraise\u001b[39;00m \u001b[39mIOError\u001b[39;00m(\u001b[39m\"\u001b[39m\u001b[39mNot input stream\u001b[39m\u001b[39m\"\u001b[39m,\n\u001b[0;32m    569\u001b[0m                   paCanNotReadFromAnOutputOnlyStream)\n\u001b[1;32m--> 570\u001b[0m \u001b[39mreturn\u001b[39;00m pa\u001b[39m.\u001b[39;49mread_stream(\u001b[39mself\u001b[39;49m\u001b[39m.\u001b[39;49m_stream, num_frames,\n\u001b[0;32m    571\u001b[0m                       exception_on_overflow)\n",
      "\u001b[1;31mKeyboardInterrupt\u001b[0m: "
     ]
    }
   ],
   "source": [
    "path = \"D:\\CODING\\chatbot\\chatbot dataset updated.txt\"\n",
    "with open(path, 'r') as f:\n",
    "  filedata = f.read()\n",
    "  context = filedata\n",
    "  \n",
    "while True:\n",
    "    text_output = \"\"\n",
    "    audio_data = capture_audio()\n",
    "    text_output = audio_to_text(audio_data).lower()\n",
    "    \n",
    "    if  text_output != \"\":\n",
    "      print(\"you said: \", text_output,end='\\n')\n",
    "      for item in GREET_INPUTS:\n",
    "         if item == text_output:\n",
    "            engine.say(random.choice(GREET_RESPONSES))\n",
    "            engine.runAndWait()\n",
    "            engine.say(\"what can i do for you\")\n",
    "            engine.runAndWait()\n",
    "\n",
    "         elif item in text_output:            \n",
    "            question = text_output.split('alex')[-1].strip()\n",
    "            # print(\"your question is:\", question)\n",
    "            answer = qa_model(question = question, context = context)\n",
    "            print(answer)\n",
    "            mytext = answer['answer']\n",
    "            engine.say(mytext)\n",
    "            engine.runAndWait()\n",
    "            print(\"Model predicted: \",answer['answer'], end='\\n\\n')\n",
    "            break\n",
    "\n",
    "      for item in EXIT_INPUTS:\n",
    "         if item in text_output:\n",
    "            engine.say(random.choice(EXIT_RESPONSES))\n",
    "            engine.runAndWait()\n",
    "            break\n",
    "    "
   ]
  },
  {
   "cell_type": "code",
   "execution_count": null,
   "metadata": {},
   "outputs": [],
   "source": [
    "\n",
    "    \n",
    "    #     if 'hey david' in text:\n",
    "    #             flag = True\n",
    "    #             tts.say('hello akshay')\n",
    "    #             tts.runAndWait()\n",
    "    #         elif 'get lost' in text:\n",
    "    #             tts.say('Sayonara')\n",
    "    #             tts.runAndWait()\n",
    "    #             break\n",
    "    \n",
    "    \n",
    "    \n",
    "    \n",
    "    # if  text_output != \"\":\n",
    "    #     print(\"You said:\", text_output)\n",
    "        \n",
    "    #     question = text_output\n",
    "    #     if question=='bye' or 'by':\n",
    "    #         print(\"Have a nice day :)\")\n",
    "    #         #break\n",
    "\n",
    "        \n",
    "    #     \n",
    "\n",
    "\n"
   ]
  },
  {
   "cell_type": "code",
   "execution_count": null,
   "metadata": {},
   "outputs": [],
   "source": []
  },
  {
   "cell_type": "code",
   "execution_count": null,
   "metadata": {},
   "outputs": [],
   "source": []
  },
  {
   "cell_type": "code",
   "execution_count": null,
   "metadata": {},
   "outputs": [],
   "source": [
    "My name is AI Voice modal.\n",
    "AI Voice Modal is a personal assistant of Akshay Sharma.\n",
    "Akshay Sharma is Pursuing his B.tech from college(Poornima Institute of Engineering and technology), jaipur, he study in CS department, Currently he is in 3rd year\n",
    "He has developed some projects like Bidirectional single door visitor counter\n",
    "Virtual College tour\n",
    "Student management system and many more.\n",
    "The technologies/skills he know are\n",
    "python\n",
    "VR\n",
    "AR\n",
    "DBMS\n",
    "C\n",
    "C++.\n",
    "Akshay sharma is trained by Indrajeet Sinha."
   ]
  }
 ],
 "metadata": {
  "kernelspec": {
   "display_name": "base",
   "language": "python",
   "name": "python3"
  },
  "language_info": {
   "codemirror_mode": {
    "name": "ipython",
    "version": 3
   },
   "file_extension": ".py",
   "mimetype": "text/x-python",
   "name": "python",
   "nbconvert_exporter": "python",
   "pygments_lexer": "ipython3",
   "version": "3.10.9"
  },
  "orig_nbformat": 4
 },
 "nbformat": 4,
 "nbformat_minor": 2
}
