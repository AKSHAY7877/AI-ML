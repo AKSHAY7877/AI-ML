{
 "cells": [
  {
   "cell_type": "code",
   "execution_count": 1,
   "metadata": {},
   "outputs": [
    {
     "name": "stdout",
     "output_type": "stream",
     "text": [
      "Collecting SpeechRecognition\n",
      "  Using cached SpeechRecognition-3.10.0-py2.py3-none-any.whl (32.8 MB)\n",
      "Requirement already satisfied: requests>=2.26.0 in c:\\users\\akshay\\appdata\\local\\packages\\pythonsoftwarefoundation.python.3.10_qbz5n2kfra8p0\\localcache\\local-packages\\python310\\site-packages (from SpeechRecognition) (2.31.0)\n",
      "Requirement already satisfied: charset-normalizer<4,>=2 in c:\\users\\akshay\\appdata\\local\\packages\\pythonsoftwarefoundation.python.3.10_qbz5n2kfra8p0\\localcache\\local-packages\\python310\\site-packages (from requests>=2.26.0->SpeechRecognition) (3.2.0)\n",
      "Requirement already satisfied: idna<4,>=2.5 in c:\\users\\akshay\\appdata\\local\\packages\\pythonsoftwarefoundation.python.3.10_qbz5n2kfra8p0\\localcache\\local-packages\\python310\\site-packages (from requests>=2.26.0->SpeechRecognition) (3.4)\n",
      "Requirement already satisfied: certifi>=2017.4.17 in c:\\users\\akshay\\appdata\\local\\packages\\pythonsoftwarefoundation.python.3.10_qbz5n2kfra8p0\\localcache\\local-packages\\python310\\site-packages (from requests>=2.26.0->SpeechRecognition) (2023.7.22)\n",
      "Requirement already satisfied: urllib3<3,>=1.21.1 in c:\\users\\akshay\\appdata\\local\\packages\\pythonsoftwarefoundation.python.3.10_qbz5n2kfra8p0\\localcache\\local-packages\\python310\\site-packages (from requests>=2.26.0->SpeechRecognition) (2.0.4)\n",
      "Installing collected packages: SpeechRecognition\n",
      "Successfully installed SpeechRecognition-3.10.0\n"
     ]
    },
    {
     "name": "stderr",
     "output_type": "stream",
     "text": [
      "\n",
      "[notice] A new release of pip is available: 23.0.1 -> 23.2.1\n",
      "[notice] To update, run: C:\\Users\\Akshay\\AppData\\Local\\Microsoft\\WindowsApps\\PythonSoftwareFoundation.Python.3.10_qbz5n2kfra8p0\\python.exe -m pip install --upgrade pip\n"
     ]
    },
    {
     "name": "stdout",
     "output_type": "stream",
     "text": [
      "Collecting nltk\n",
      "  Downloading nltk-3.8.1-py3-none-any.whl (1.5 MB)\n",
      "     ---------------------------------------- 0.0/1.5 MB ? eta -:--:--\n",
      "      --------------------------------------- 0.0/1.5 MB 660.6 kB/s eta 0:00:03\n",
      "     -- ------------------------------------- 0.1/1.5 MB 871.5 kB/s eta 0:00:02\n",
      "     -- ------------------------------------- 0.1/1.5 MB 871.5 kB/s eta 0:00:02\n",
      "     --- ------------------------------------ 0.1/1.5 MB 655.8 kB/s eta 0:00:03\n",
      "     ---- ----------------------------------- 0.2/1.5 MB 654.6 kB/s eta 0:00:03\n",
      "     ---- ----------------------------------- 0.2/1.5 MB 654.6 kB/s eta 0:00:03\n",
      "     ---- ----------------------------------- 0.2/1.5 MB 523.5 kB/s eta 0:00:03\n",
      "     ---- ----------------------------------- 0.2/1.5 MB 523.5 kB/s eta 0:00:03\n",
      "     ----- ---------------------------------- 0.2/1.5 MB 504.4 kB/s eta 0:00:03\n",
      "     ----- ---------------------------------- 0.2/1.5 MB 504.4 kB/s eta 0:00:03\n",
      "     ------- -------------------------------- 0.3/1.5 MB 496.1 kB/s eta 0:00:03\n",
      "     ------- -------------------------------- 0.3/1.5 MB 496.1 kB/s eta 0:00:03\n",
      "     ------- -------------------------------- 0.3/1.5 MB 470.0 kB/s eta 0:00:03\n",
      "     ------- -------------------------------- 0.3/1.5 MB 470.0 kB/s eta 0:00:03\n",
      "     ------- -------------------------------- 0.3/1.5 MB 470.0 kB/s eta 0:00:03\n",
      "     -------- ------------------------------- 0.3/1.5 MB 409.6 kB/s eta 0:00:03\n",
      "     -------- ------------------------------- 0.3/1.5 MB 409.6 kB/s eta 0:00:03\n",
      "     --------- ------------------------------ 0.3/1.5 MB 408.1 kB/s eta 0:00:03\n",
      "     --------- ------------------------------ 0.4/1.5 MB 416.7 kB/s eta 0:00:03\n",
      "     ---------- ----------------------------- 0.4/1.5 MB 422.0 kB/s eta 0:00:03\n",
      "     ---------- ----------------------------- 0.4/1.5 MB 419.1 kB/s eta 0:00:03\n",
      "     ----------- ---------------------------- 0.4/1.5 MB 407.2 kB/s eta 0:00:03\n",
      "     ------------ --------------------------- 0.5/1.5 MB 423.9 kB/s eta 0:00:03\n",
      "     ------------- -------------------------- 0.5/1.5 MB 427.8 kB/s eta 0:00:03\n",
      "     -------------- ------------------------- 0.5/1.5 MB 454.3 kB/s eta 0:00:03\n",
      "     --------------- ------------------------ 0.6/1.5 MB 468.2 kB/s eta 0:00:03\n",
      "     ---------------- ----------------------- 0.6/1.5 MB 489.2 kB/s eta 0:00:02\n",
      "     ----------------- ---------------------- 0.6/1.5 MB 483.5 kB/s eta 0:00:02\n",
      "     ------------------ --------------------- 0.7/1.5 MB 518.1 kB/s eta 0:00:02\n",
      "     ------------------- -------------------- 0.7/1.5 MB 522.7 kB/s eta 0:00:02\n",
      "     -------------------- ------------------- 0.8/1.5 MB 541.2 kB/s eta 0:00:02\n",
      "     ---------------------- ----------------- 0.9/1.5 MB 572.3 kB/s eta 0:00:02\n",
      "     ------------------------- -------------- 1.0/1.5 MB 615.3 kB/s eta 0:00:01\n",
      "     --------------------------- ------------ 1.0/1.5 MB 642.4 kB/s eta 0:00:01\n",
      "     --------------------------- ------------ 1.0/1.5 MB 636.5 kB/s eta 0:00:01\n",
      "     ----------------------------- ---------- 1.1/1.5 MB 649.2 kB/s eta 0:00:01\n",
      "     ------------------------------ --------- 1.1/1.5 MB 667.4 kB/s eta 0:00:01\n",
      "     ------------------------------- -------- 1.2/1.5 MB 666.8 kB/s eta 0:00:01\n",
      "     ------------------------------- -------- 1.2/1.5 MB 672.7 kB/s eta 0:00:01\n",
      "     -------------------------------- ------- 1.2/1.5 MB 660.6 kB/s eta 0:00:01\n",
      "     ---------------------------------- ----- 1.3/1.5 MB 671.6 kB/s eta 0:00:01\n",
      "     ----------------------------------- ---- 1.4/1.5 MB 692.2 kB/s eta 0:00:01\n",
      "     ------------------------------------ --- 1.4/1.5 MB 696.4 kB/s eta 0:00:01\n",
      "     -------------------------------------- - 1.5/1.5 MB 715.9 kB/s eta 0:00:01\n",
      "     -------------------------------------- - 1.5/1.5 MB 715.9 kB/s eta 0:00:01\n",
      "     ---------------------------------------  1.5/1.5 MB 699.3 kB/s eta 0:00:01\n",
      "     ---------------------------------------  1.5/1.5 MB 693.4 kB/s eta 0:00:01\n",
      "     ---------------------------------------- 1.5/1.5 MB 685.8 kB/s eta 0:00:00\n",
      "Requirement already satisfied: tqdm in c:\\users\\akshay\\appdata\\local\\packages\\pythonsoftwarefoundation.python.3.10_qbz5n2kfra8p0\\localcache\\local-packages\\python310\\site-packages (from nltk) (4.65.1)\n",
      "Collecting joblib\n",
      "  Downloading joblib-1.3.2-py3-none-any.whl (302 kB)\n",
      "     ---------------------------------------- 0.0/302.2 kB ? eta -:--:--\n",
      "     ----- ------------------------------- 41.0/302.2 kB 991.0 kB/s eta 0:00:01\n",
      "     --------------- ---------------------- 122.9/302.2 kB 1.4 MB/s eta 0:00:01\n",
      "     ------------------------ ------------- 194.6/302.2 kB 1.5 MB/s eta 0:00:01\n",
      "     -------------------------------- ----- 256.0/302.2 kB 1.4 MB/s eta 0:00:01\n",
      "     -------------------------------------  297.0/302.2 kB 1.5 MB/s eta 0:00:01\n",
      "     -------------------------------------- 302.2/302.2 kB 1.3 MB/s eta 0:00:00\n",
      "Collecting click\n",
      "  Downloading click-8.1.7-py3-none-any.whl (97 kB)\n",
      "     ---------------------------------------- 0.0/97.9 kB ? eta -:--:--\n",
      "     ------------------------- -------------- 61.4/97.9 kB 3.2 MB/s eta 0:00:01\n",
      "     ---------------------------------------- 97.9/97.9 kB 1.4 MB/s eta 0:00:00\n",
      "Requirement already satisfied: regex>=2021.8.3 in c:\\users\\akshay\\appdata\\local\\packages\\pythonsoftwarefoundation.python.3.10_qbz5n2kfra8p0\\localcache\\local-packages\\python310\\site-packages (from nltk) (2023.6.3)\n",
      "Requirement already satisfied: colorama in c:\\users\\akshay\\appdata\\local\\packages\\pythonsoftwarefoundation.python.3.10_qbz5n2kfra8p0\\localcache\\local-packages\\python310\\site-packages (from click->nltk) (0.4.6)\n",
      "Installing collected packages: joblib, click, nltk\n",
      "Successfully installed click-8.1.7 joblib-1.3.2 nltk-3.8.1\n"
     ]
    },
    {
     "name": "stderr",
     "output_type": "stream",
     "text": [
      "  WARNING: The script nltk.exe is installed in 'C:\\Users\\Akshay\\AppData\\Local\\Packages\\PythonSoftwareFoundation.Python.3.10_qbz5n2kfra8p0\\LocalCache\\local-packages\\Python310\\Scripts' which is not on PATH.\n",
      "  Consider adding this directory to PATH or, if you prefer to suppress this warning, use --no-warn-script-location.\n",
      "\n",
      "[notice] A new release of pip is available: 23.0.1 -> 23.2.1\n",
      "[notice] To update, run: C:\\Users\\Akshay\\AppData\\Local\\Microsoft\\WindowsApps\\PythonSoftwareFoundation.Python.3.10_qbz5n2kfra8p0\\python.exe -m pip install --upgrade pip\n"
     ]
    },
    {
     "name": "stdout",
     "output_type": "stream",
     "text": [
      "Collecting pyttsx3\n",
      "  Using cached pyttsx3-2.90-py3-none-any.whl (39 kB)\n",
      "Collecting comtypes\n",
      "  Using cached comtypes-1.2.0-py2.py3-none-any.whl (184 kB)\n",
      "Collecting pypiwin32\n",
      "  Using cached pypiwin32-223-py3-none-any.whl (1.7 kB)\n",
      "Requirement already satisfied: pywin32 in c:\\users\\akshay\\appdata\\local\\packages\\pythonsoftwarefoundation.python.3.10_qbz5n2kfra8p0\\localcache\\local-packages\\python310\\site-packages (from pyttsx3) (306)\n",
      "Installing collected packages: comtypes, pypiwin32, pyttsx3\n",
      "Successfully installed comtypes-1.2.0 pypiwin32-223 pyttsx3-2.90\n"
     ]
    },
    {
     "name": "stderr",
     "output_type": "stream",
     "text": [
      "\n",
      "[notice] A new release of pip is available: 23.0.1 -> 23.2.1\n",
      "[notice] To update, run: C:\\Users\\Akshay\\AppData\\Local\\Microsoft\\WindowsApps\\PythonSoftwareFoundation.Python.3.10_qbz5n2kfra8p0\\python.exe -m pip install --upgrade pip\n"
     ]
    }
   ],
   "source": [
    "!python3 -m pip install SpeechRecognition\n",
    "!python3 -m pip install nltk\n",
    "!python3 -m pip install pyttsx3"
   ]
  },
  {
   "cell_type": "code",
   "execution_count": 1,
   "metadata": {},
   "outputs": [],
   "source": [
    "import speech_recognition as sr\n",
    "import nltk\n",
    "import pyttsx3"
   ]
  },
  {
   "cell_type": "code",
   "execution_count": 4,
   "metadata": {},
   "outputs": [],
   "source": [
    "import cv2\n",
    "from time import sleep\n",
    "hog = cv2.HOGDescriptor()\n",
    "hog.setSVMDetector(cv2.HOGDescriptor_getDefaultPeopleDetector())\n",
    "vid = cv2.VideoCapture(index = 0)\n",
    "while True:\n",
    "    ack, img = vid.read()\n",
    "    if ack:\n",
    "        people, weights = hog.detectMultiScale(\n",
    "            cv2.cvtColor(img, cv2.COLOR_BGR2GRAY),\n",
    "            winStride = (15,15),\n",
    "        )\n",
    "    for x,y,w,h in people:\n",
    "        cv2.rectangle(\n",
    "            img, pt1 = (x,y), pt2 = (x+w, y+h),\n",
    "            color=(0,0,255), thickness=5,\n",
    "        )\n",
    "    sleep(0.1)\n",
    "    cv2.imshow('Preview', img)\n",
    "    if cv2.waitKey(delay = 1) == ord('x'):\n",
    "        break\n",
    "cv2.destroyAllWindows();\n",
    "cv2.waitKey(1)\n",
    "vid.release()"
   ]
  },
  {
   "cell_type": "code",
   "execution_count": 1,
   "metadata": {},
   "outputs": [],
   "source": [
    "# RULE BASED CHATBOT"
   ]
  },
  {
   "cell_type": "code",
   "execution_count": 19,
   "metadata": {},
   "outputs": [],
   "source": [
    "import pyttsx3\n",
    "tts = pyttsx3.init()\n",
    "tts.setProperty('rate', 120)"
   ]
  },
  {
   "cell_type": "code",
   "execution_count": 20,
   "metadata": {},
   "outputs": [],
   "source": [
    "tts.say('My name is Chitti Speed 1 terahertz, memory 1 zeta byte.')\n",
    "tts.runAndWait()\n",
    "\n",
    "\n",
    "text = 'My name is Chitti Speed 1 terahertz, memory 1 zeta byte.'"
   ]
  },
  {
   "cell_type": "code",
   "execution_count": 35,
   "metadata": {},
   "outputs": [
    {
     "name": "stdout",
     "output_type": "stream",
     "text": [
      "Speak: \n"
     ]
    }
   ],
   "source": [
    "import warnings; warnings.filterwarnings('ignore')\n",
    "import webbrowser as web\n",
    "import speech_recognition as sr\n",
    "rec = sr.Recognizer()\n",
    "flag = False\n",
    "while True:\n",
    "    with sr.Microphone() as mic:\n",
    "        print('Speak: ')\n",
    "        audio = rec.listen(mic, phrase_time_limit=3, timeout=5)\n",
    "        try:\n",
    "            text = rec.recognize_google(audio).lower()\n",
    "            if flag == True:\n",
    "                if 'search' in text:\n",
    "                    item = text.split('search')[-1].strip()\n",
    "                    flipkart_url = 'https://flipkart.com/search?q='\n",
    "                    amazon_url =  'https://amazon.in/s?k='\n",
    "                    web.open_new(flipkart_url + item)\n",
    "                    web.open_new_tab(amazon_url + item)\n",
    "                    tts.say('Here is your result')\n",
    "                    tts.runAndWait()\n",
    "                flag = False\n",
    "\n",
    "            if 'hey david' in text:\n",
    "                flag = True\n",
    "                tts.say('hello akshay')\n",
    "                tts.runAndWait()\n",
    "            elif 'get lost' in text:\n",
    "                tts.say('Sayonara')\n",
    "                tts.runAndWait()\n",
    "                break\n",
    "            \n",
    "        except Exception as err:\n",
    "            print(err)"
   ]
  },
  {
   "cell_type": "code",
   "execution_count": 37,
   "metadata": {},
   "outputs": [],
   "source": [
    "from nltk.chat.util import Chat"
   ]
  },
  {
   "cell_type": "code",
   "execution_count": null,
   "metadata": {},
   "outputs": [],
   "source": []
  },
  {
   "cell_type": "code",
   "execution_count": 44,
   "metadata": {},
   "outputs": [],
   "source": [
    "q1 = r'(.*)your name (.*)company (.*)'.lower()\n",
    "a1 = ['my name is chatchat', 'I am chatchat']\n",
    "q2 = r'kya aaj kuch acha hoga'\n",
    "a2 = ['haan', 'mujhe kay pta', 'mein kyo batau']\n",
    "qa_pair = [\n",
    "    [q1,a1],\n",
    "    [q2,a2],\n",
    "]\n",
    "cb = Chat(qa_pair)"
   ]
  },
  {
   "cell_type": "code",
   "execution_count": 45,
   "metadata": {},
   "outputs": [
    {
     "name": "stdout",
     "output_type": "stream",
     "text": [
      "my name is chatchat\n"
     ]
    }
   ],
   "source": [
    "ques = input('enter ques: ')\n",
    "resp = cb.respond(ques)\n",
    "print(resp)"
   ]
  },
  {
   "cell_type": "code",
   "execution_count": null,
   "metadata": {},
   "outputs": [],
   "source": [
    "# REGULAR EXPRESSIONS\n",
    "######################\n",
    "()      Capture & Group\n",
    ".       Any Character (except new line)\n",
    "|       or\n",
    "[]      set of characters\n",
    "a-z\n",
    "A-Z\n",
    "0-9\n",
    "^       starting with\n",
    "$       ends with\n",
    "?       zero or one occurances\n",
    "{}      exact number of occurences\n",
    "\\w      only word characters\n",
    "\\W      not word characters"
   ]
  },
  {
   "cell_type": "code",
   "execution_count": 50,
   "metadata": {},
   "outputs": [
    {
     "name": "stdout",
     "output_type": "stream",
     "text": [
      "Speak: \n",
      "Speak: \n",
      "Speak: \n",
      "Speak: \n",
      "\n",
      "Speak: \n",
      "Speak: \n",
      "Speak: \n",
      "Speak: \n",
      "\n",
      "Speak: \n",
      "\n",
      "Speak: \n",
      "\n",
      "Speak: \n",
      "\n",
      "Speak: \n",
      "\n",
      "Speak: \n",
      "\n",
      "Speak: \n",
      "\n",
      "Speak: \n",
      "\n",
      "Speak: \n",
      "\n",
      "Speak: \n",
      "Speak: \n",
      "\n",
      "Speak: \n",
      "Speak: \n",
      "\n",
      "Speak: \n",
      "Speak: \n",
      "Speak: \n",
      "Speak: \n",
      "\n",
      "Speak: \n"
     ]
    },
    {
     "ename": "KeyboardInterrupt",
     "evalue": "",
     "output_type": "error",
     "traceback": [
      "\u001b[1;31m---------------------------------------------------------------------------\u001b[0m",
      "\u001b[1;31mKeyboardInterrupt\u001b[0m                         Traceback (most recent call last)",
      "Cell \u001b[1;32mIn[50], line 20\u001b[0m\n\u001b[0;32m     18\u001b[0m \u001b[39mwith\u001b[39;00m sr\u001b[39m.\u001b[39mMicrophone() \u001b[39mas\u001b[39;00m mic:\n\u001b[0;32m     19\u001b[0m     \u001b[39mprint\u001b[39m(\u001b[39m'\u001b[39m\u001b[39mSpeak: \u001b[39m\u001b[39m'\u001b[39m)\n\u001b[1;32m---> 20\u001b[0m     audio \u001b[39m=\u001b[39m rec\u001b[39m.\u001b[39;49mlisten(mic, phrase_time_limit\u001b[39m=\u001b[39;49m\u001b[39m3\u001b[39;49m, timeout\u001b[39m=\u001b[39;49m\u001b[39m5\u001b[39;49m)\n\u001b[0;32m     21\u001b[0m     \u001b[39mtry\u001b[39;00m:\n\u001b[0;32m     22\u001b[0m         text \u001b[39m=\u001b[39m rec\u001b[39m.\u001b[39mrecognize_google(audio)\u001b[39m.\u001b[39mlower()\n",
      "File \u001b[1;32mc:\\Users\\Akshay\\anaconda3\\lib\\site-packages\\speech_recognition\\__init__.py:523\u001b[0m, in \u001b[0;36mRecognizer.listen\u001b[1;34m(self, source, timeout, phrase_time_limit, snowboy_configuration)\u001b[0m\n\u001b[0;32m    520\u001b[0m \u001b[39mif\u001b[39;00m phrase_time_limit \u001b[39mand\u001b[39;00m elapsed_time \u001b[39m-\u001b[39m phrase_start_time \u001b[39m>\u001b[39m phrase_time_limit:\n\u001b[0;32m    521\u001b[0m     \u001b[39mbreak\u001b[39;00m\n\u001b[1;32m--> 523\u001b[0m buffer \u001b[39m=\u001b[39m source\u001b[39m.\u001b[39;49mstream\u001b[39m.\u001b[39;49mread(source\u001b[39m.\u001b[39;49mCHUNK)\n\u001b[0;32m    524\u001b[0m \u001b[39mif\u001b[39;00m \u001b[39mlen\u001b[39m(buffer) \u001b[39m==\u001b[39m \u001b[39m0\u001b[39m: \u001b[39mbreak\u001b[39;00m  \u001b[39m# reached end of the stream\u001b[39;00m\n\u001b[0;32m    525\u001b[0m frames\u001b[39m.\u001b[39mappend(buffer)\n",
      "File \u001b[1;32mc:\\Users\\Akshay\\anaconda3\\lib\\site-packages\\speech_recognition\\__init__.py:199\u001b[0m, in \u001b[0;36mMicrophone.MicrophoneStream.read\u001b[1;34m(self, size)\u001b[0m\n\u001b[0;32m    198\u001b[0m \u001b[39mdef\u001b[39;00m \u001b[39mread\u001b[39m(\u001b[39mself\u001b[39m, size):\n\u001b[1;32m--> 199\u001b[0m     \u001b[39mreturn\u001b[39;00m \u001b[39mself\u001b[39;49m\u001b[39m.\u001b[39;49mpyaudio_stream\u001b[39m.\u001b[39;49mread(size, exception_on_overflow\u001b[39m=\u001b[39;49m\u001b[39mFalse\u001b[39;49;00m)\n",
      "File \u001b[1;32m~\\AppData\\Roaming\\Python\\Python310\\site-packages\\pyaudio\\__init__.py:570\u001b[0m, in \u001b[0;36mPyAudio.Stream.read\u001b[1;34m(self, num_frames, exception_on_overflow)\u001b[0m\n\u001b[0;32m    567\u001b[0m \u001b[39mif\u001b[39;00m \u001b[39mnot\u001b[39;00m \u001b[39mself\u001b[39m\u001b[39m.\u001b[39m_is_input:\n\u001b[0;32m    568\u001b[0m     \u001b[39mraise\u001b[39;00m \u001b[39mIOError\u001b[39;00m(\u001b[39m\"\u001b[39m\u001b[39mNot input stream\u001b[39m\u001b[39m\"\u001b[39m,\n\u001b[0;32m    569\u001b[0m                   paCanNotReadFromAnOutputOnlyStream)\n\u001b[1;32m--> 570\u001b[0m \u001b[39mreturn\u001b[39;00m pa\u001b[39m.\u001b[39;49mread_stream(\u001b[39mself\u001b[39;49m\u001b[39m.\u001b[39;49m_stream, num_frames,\n\u001b[0;32m    571\u001b[0m                       exception_on_overflow)\n",
      "\u001b[1;31mKeyboardInterrupt\u001b[0m: "
     ]
    }
   ],
   "source": [
    "from nltk.chat.util import Chat\n",
    "import speech_recognition as sr\n",
    "import pyttsx3\n",
    "\n",
    "q1 = r'(.*)your name (.*)company (.*)'.lower()\n",
    "a1 = ['my name is chatchat', 'I am chatchat']\n",
    "q2 = r'kya aaj kuch acha hoga'\n",
    "a2 = ['haan', 'mujhe kay pta', 'mein kyo batau']\n",
    "qa_pair = [\n",
    "    [q1,a1],\n",
    "    [q2,a2],\n",
    "]\n",
    "cb = Chat(qa_pair)\n",
    "tts = pyttsx3.init()\n",
    "rec = sr.Recognizer()\n",
    "flag = False\n",
    "while True:\n",
    "    with sr.Microphone() as mic:\n",
    "        print('Speak: ')\n",
    "        audio = rec.listen(mic, phrase_time_limit=3, timeout=5)\n",
    "        try:\n",
    "            text = rec.recognize_google(audio).lower()\n",
    "            if flag == True:\n",
    "                if 'search' in text:\n",
    "                    item = text.split('search')[-1].strip()\n",
    "                    flipkart_url = 'https://flipkart.com/search?q='\n",
    "                    amazon_url =  'https://amazon.in/s?k='\n",
    "                    web.open_new(flipkart_url + item)\n",
    "                    web.open_new_tab(amazon_url + item)\n",
    "                    tts.say('Here is your result')\n",
    "                    tts.runAndWait()\n",
    "                else:\n",
    "                    resp = cb.respond(text)\n",
    "                    if resp== None:\n",
    "                        tts.say('Sorry, I dont know')\n",
    "                    tts.say(resp)\n",
    "                    tts.runAndWait()\n",
    "                flag = False\n",
    "\n",
    "            if 'hey google' in text:\n",
    "                flag = True\n",
    "                tts.say('hello akshay')\n",
    "                tts.runAndWait()\n",
    "            elif 'get lost' in text:\n",
    "                tts.say('Sayonara')\n",
    "                tts.runAndWait()\n",
    "                break\n",
    "            \n",
    "        except Exception as err:\n",
    "            print(err)"
   ]
  },
  {
   "cell_type": "code",
   "execution_count": null,
   "metadata": {},
   "outputs": [],
   "source": []
  }
 ],
 "metadata": {
  "kernelspec": {
   "display_name": "base",
   "language": "python",
   "name": "python3"
  },
  "language_info": {
   "codemirror_mode": {
    "name": "ipython",
    "version": 3
   },
   "file_extension": ".py",
   "mimetype": "text/x-python",
   "name": "python",
   "nbconvert_exporter": "python",
   "pygments_lexer": "ipython3",
   "version": "3.10.9"
  },
  "orig_nbformat": 4
 },
 "nbformat": 4,
 "nbformat_minor": 2
}
