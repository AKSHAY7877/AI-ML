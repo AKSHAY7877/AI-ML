{
 "cells": [
  {
   "cell_type": "code",
   "execution_count": 34,
   "metadata": {},
   "outputs": [],
   "source": [
    "a = 10\n",
    "b = 10.0\n",
    "c = 10 + 0j\n",
    "d = 'hello'\n",
    "e = [3,6,2]\n",
    "f = (3,6,2)\n",
    "g = {'a': [45,6], 'b':[1,6,2]}\n",
    "h = {5,2,8}\n",
    "i = True"
   ]
  },
  {
   "cell_type": "code",
   "execution_count": 3,
   "metadata": {},
   "outputs": [
    {
     "data": {
      "text/plain": [
       "int"
      ]
     },
     "execution_count": 3,
     "metadata": {},
     "output_type": "execute_result"
    }
   ],
   "source": [
    "type(a)"
   ]
  },
  {
   "cell_type": "code",
   "execution_count": 4,
   "metadata": {},
   "outputs": [
    {
     "data": {
      "text/plain": [
       "10"
      ]
     },
     "execution_count": 4,
     "metadata": {},
     "output_type": "execute_result"
    }
   ],
   "source": [
    "a.real   # as a is an object of a integer class so here real is not a function in class we have some functions and some variables so real is a variable here"
   ]
  },
  {
   "cell_type": "code",
   "execution_count": 5,
   "metadata": {},
   "outputs": [
    {
     "name": "stdout",
     "output_type": "stream",
     "text": [
      "2\n",
      "1\n",
      "2\n",
      "['he', '', 'o']\n",
      "hell\n",
      "heLLo\n",
      "hello\n",
      "\n",
      "whelloohellow\n",
      "HELLO\n",
      "hello\n",
      "True\n",
      "False\n",
      "True\n"
     ]
    }
   ],
   "source": [
    "# STRING FUNCTIONS RETURN SOMETHING\n",
    "print(d.count('l'))     # USE TO COUNT NUMBER OF OCCURENCES\n",
    "print(d.index('e'))\n",
    "print(d.find('l'))\n",
    "print(d.split('l'))\n",
    "print(d.strip('o'))     # by default it removes trailing and heading spaces or if we provide any value it will remove it from front and last\n",
    "print(d.replace('l','L'))\n",
    "print(d,end='\\n\\n')\n",
    "print(d.join('wow'))\n",
    "print(d.upper())\n",
    "print(d.lower())\n",
    "print(d.islower())\n",
    "print(d.isupper())\n",
    "print(d.isalpha())\n",
    "\n",
    "\n",
    "# STRING ALL FUNCTIONS RETURN SOMETHING"
   ]
  },
  {
   "cell_type": "code",
   "execution_count": 6,
   "metadata": {},
   "outputs": [
    {
     "data": {
      "text/plain": [
       "'this is strip'"
      ]
     },
     "execution_count": 6,
     "metadata": {},
     "output_type": "execute_result"
    }
   ],
   "source": [
    "'     this is strip     '.strip()\n"
   ]
  },
  {
   "cell_type": "code",
   "execution_count": 7,
   "metadata": {},
   "outputs": [
    {
     "data": {
      "text/plain": [
       "['     th', 's ', 's str', 'p     ']"
      ]
     },
     "execution_count": 7,
     "metadata": {},
     "output_type": "execute_result"
    }
   ],
   "source": [
    "'     this is strip     '.split('i')\n"
   ]
  },
  {
   "cell_type": "code",
   "execution_count": 8,
   "metadata": {},
   "outputs": [
    {
     "data": {
      "text/plain": [
       "'bawesomeaawesomekawesomewawesomeaawesomes'"
      ]
     },
     "execution_count": 8,
     "metadata": {},
     "output_type": "execute_result"
    }
   ],
   "source": [
    "'awesome'.join('bakwas')"
   ]
  },
  {
   "cell_type": "code",
   "execution_count": 9,
   "metadata": {},
   "outputs": [
    {
     "data": {
      "text/plain": [
       "'b-a-k-w-a-s'"
      ]
     },
     "execution_count": 9,
     "metadata": {},
     "output_type": "execute_result"
    }
   ],
   "source": [
    "'-'.join('bakwas')"
   ]
  },
  {
   "cell_type": "code",
   "execution_count": 10,
   "metadata": {},
   "outputs": [
    {
     "data": {
      "text/plain": [
       "'hi wow there wow to wow nice'"
      ]
     },
     "execution_count": 10,
     "metadata": {},
     "output_type": "execute_result"
    }
   ],
   "source": [
    "' wow '.join(['hi', 'there', 'to', 'nice'])"
   ]
  },
  {
   "cell_type": "code",
   "execution_count": 11,
   "metadata": {},
   "outputs": [
    {
     "data": {
      "text/plain": [
       "'This will last at most 10 days'"
      ]
     },
     "execution_count": 11,
     "metadata": {},
     "output_type": "execute_result"
    }
   ],
   "source": [
    "# old way\n",
    "days = 10\n",
    "\"This will last at most %d days\"%(days)"
   ]
  },
  {
   "cell_type": "code",
   "execution_count": 12,
   "metadata": {},
   "outputs": [
    {
     "data": {
      "text/plain": [
       "'This will last at most 10 days'"
      ]
     },
     "execution_count": 12,
     "metadata": {},
     "output_type": "execute_result"
    }
   ],
   "source": [
    "days = 10\n",
    "s = f\"This will last at most {days} days\"\n",
    "s"
   ]
  },
  {
   "cell_type": "code",
   "execution_count": 13,
   "metadata": {},
   "outputs": [
    {
     "ename": "SyntaxError",
     "evalue": "invalid syntax (2144028116.py, line 2)",
     "output_type": "error",
     "traceback": [
      "\u001b[1;36m  Cell \u001b[1;32mIn[13], line 2\u001b[1;36m\u001b[0m\n\u001b[1;33m    - Ordinary strings\u001b[0m\n\u001b[1;37m               ^\u001b[0m\n\u001b[1;31mSyntaxError\u001b[0m\u001b[1;31m:\u001b[0m invalid syntax\n"
     ]
    }
   ],
   "source": [
    "# String types\n",
    "- Ordinary strings\n",
    "- F-string\n",
    "- Raw-string       r'this is \\n raw string'\n",
    "- byte-string      b 'this is a byte string'"
   ]
  },
  {
   "cell_type": "code",
   "execution_count": 14,
   "metadata": {},
   "outputs": [
    {
     "data": {
      "text/plain": [
       "'this is raw \\\\n string'"
      ]
     },
     "execution_count": 14,
     "metadata": {},
     "output_type": "execute_result"
    }
   ],
   "source": [
    "r'this is raw \\n string'"
   ]
  },
  {
   "cell_type": "code",
   "execution_count": 15,
   "metadata": {},
   "outputs": [
    {
     "name": "stdout",
     "output_type": "stream",
     "text": [
      "this will last at most 10 days and extra 5\n"
     ]
    }
   ],
   "source": [
    "# use format function when string declaration is present first and variable declaration is done after that in that case format() is our saviour\n",
    "s = \"this will last at most {} days and extra {}\"\n",
    "days = 10\n",
    "extra = 5\n",
    "s = s.format(days, extra)\n",
    "print(s)"
   ]
  },
  {
   "cell_type": "code",
   "execution_count": 16,
   "metadata": {},
   "outputs": [
    {
     "name": "stdout",
     "output_type": "stream",
     "text": [
      "this will last at most 5 days and extra 10\n"
     ]
    }
   ],
   "source": [
    "s = \"this will last at most {1} days and extra {0}\"\n",
    "days = 10\n",
    "extra = 5\n",
    "s = s.format(days, extra)\n",
    "print(s)"
   ]
  },
  {
   "cell_type": "code",
   "execution_count": 17,
   "metadata": {},
   "outputs": [
    {
     "name": "stdout",
     "output_type": "stream",
     "text": [
      "this will last at most 5 days in 5 and extra 10\n"
     ]
    }
   ],
   "source": [
    "s = \"this will last at most {1} days in {1} and extra {0}\"\n",
    "days = 10\n",
    "extra = 5\n",
    "s = s.format(days, extra)\n",
    "print(s)"
   ]
  },
  {
   "cell_type": "code",
   "execution_count": 18,
   "metadata": {},
   "outputs": [
    {
     "name": "stdout",
     "output_type": "stream",
     "text": [
      "[3, 6, 2, 50]\n",
      "0\n",
      "[3, 6, 2, 50, 4, 6, 2, 3]\n",
      "4\n",
      "[3, 6, 100, 2, 50, 4, 6, 2, 3]\n",
      "3\n",
      "[3, 6, 100, 2, 50, 4, 6, 2]\n",
      "[3, 100, 2, 50, 4, 6, 2]\n",
      "[2, 6, 4, 50, 2, 100, 3]\n",
      "[2, 2, 3, 4, 6, 50, 100]\n"
     ]
    }
   ],
   "source": [
    "#LIST FUNCTIONS      ---> some functions will return some will update some will do both\n",
    "e.append(50); print(e)\n",
    "print(e.count(10))\n",
    "e.extend([4,6,2,3]); print(e)              # IN VALUES KO ALAG ALAG INSERT KREGA\n",
    "print(e.index(4))\n",
    "e.insert(2, 100); print(e)\n",
    "print(e.pop()); print(e)\n",
    "e.remove(6); print(e)\n",
    "e.reverse(); print(e)\n",
    "e.sort(); print(e)\n",
    "\n",
    "#e.clear()\n",
    "e1 = e.copy()       # SHALLOW COPY it will do no impact\n",
    "e2 = e              # DEEP COPY\n",
    "\n"
   ]
  },
  {
   "cell_type": "code",
   "execution_count": 19,
   "metadata": {},
   "outputs": [
    {
     "data": {
      "text/plain": [
       "([2, 2, 3, 4, 6, 50, 100], [2, 2, 3, 4, 6, 50, 100])"
      ]
     },
     "execution_count": 19,
     "metadata": {},
     "output_type": "execute_result"
    }
   ],
   "source": [
    "# shallow copy vs Deep copy\n",
    "e1,e2"
   ]
  },
  {
   "cell_type": "code",
   "execution_count": 20,
   "metadata": {},
   "outputs": [
    {
     "data": {
      "text/plain": [
       "True"
      ]
     },
     "execution_count": 20,
     "metadata": {},
     "output_type": "execute_result"
    }
   ],
   "source": [
    "e2 is e"
   ]
  },
  {
   "cell_type": "code",
   "execution_count": 21,
   "metadata": {},
   "outputs": [],
   "source": [
    "e2.append(1000)"
   ]
  },
  {
   "cell_type": "code",
   "execution_count": 22,
   "metadata": {},
   "outputs": [
    {
     "data": {
      "text/plain": [
       "([2, 2, 3, 4, 6, 50, 100, 1000], [2, 2, 3, 4, 6, 50, 100, 1000])"
      ]
     },
     "execution_count": 22,
     "metadata": {},
     "output_type": "execute_result"
    }
   ],
   "source": [
    "e,e2"
   ]
  },
  {
   "cell_type": "code",
   "execution_count": 23,
   "metadata": {},
   "outputs": [],
   "source": [
    "e1.append(2000)\n"
   ]
  },
  {
   "cell_type": "code",
   "execution_count": 24,
   "metadata": {},
   "outputs": [
    {
     "data": {
      "text/plain": [
       "([2, 2, 3, 4, 6, 50, 100, 1000], [2, 2, 3, 4, 6, 50, 100, 2000])"
      ]
     },
     "execution_count": 24,
     "metadata": {},
     "output_type": "execute_result"
    }
   ],
   "source": [
    "e,e1"
   ]
  },
  {
   "cell_type": "code",
   "execution_count": 25,
   "metadata": {},
   "outputs": [
    {
     "name": "stdout",
     "output_type": "stream",
     "text": [
      "(3, 6, 2)\n",
      "0\n",
      "1\n"
     ]
    }
   ],
   "source": [
    "# TUPLE FUNCTIONS\n",
    "print(f)\n",
    "print(f.index(3))\n",
    "print(f.count(3))"
   ]
  },
  {
   "cell_type": "code",
   "execution_count": 26,
   "metadata": {},
   "outputs": [
    {
     "name": "stdout",
     "output_type": "stream",
     "text": [
      "{'a': [45, 6], 'b': [1, 6, 2]}\n",
      "dict_keys(['a', 'b'])\n",
      "dict_values([[45, 6], [1, 6, 2]])\n",
      "[45, 6]\n",
      "[1, 6, 2]\n",
      "{'a': [45, 6]}\n"
     ]
    }
   ],
   "source": [
    "# DICTIONARY FUNCTIONS\n",
    "print(g)\n",
    "print(g.keys())\n",
    "print(g.values())\n",
    "print(g.get('a'))\n",
    "print(g.pop('b')); print(g)"
   ]
  },
  {
   "cell_type": "code",
   "execution_count": 27,
   "metadata": {},
   "outputs": [
    {
     "name": "stdout",
     "output_type": "stream",
     "text": [
      "{'a': [45, 6], 'c': 34}\n"
     ]
    }
   ],
   "source": [
    "g.update({'c':34})\n",
    "print(g)"
   ]
  },
  {
   "cell_type": "code",
   "execution_count": 37,
   "metadata": {},
   "outputs": [
    {
     "name": "stdout",
     "output_type": "stream",
     "text": [
      "{2, 50, 5}\n",
      "{2, 50, 5}\n",
      "{50, 5}\n",
      "{2}\n",
      "{50, 5}\n",
      "{5}\n",
      "{20, 5, 40, 10, 30}\n"
     ]
    }
   ],
   "source": [
    "# SET FUNCTION\n",
    "print(h)                   # we can perform some operations with the help of functions\n",
    "h.add(50); print(h)\n",
    "print(h.difference({2,10}))\n",
    "print(h.intersection({2,10}))\n",
    "h.pop(); print(h)       # FIFO\n",
    "h.remove(50); print(h)\n",
    "print(h.union({10,20,30,40}))"
   ]
  },
  {
   "cell_type": "code",
   "execution_count": 38,
   "metadata": {},
   "outputs": [
    {
     "data": {
      "text/plain": [
       "'10'"
      ]
     },
     "execution_count": 38,
     "metadata": {},
     "output_type": "execute_result"
    }
   ],
   "source": [
    "str(a)"
   ]
  },
  {
   "cell_type": "code",
   "execution_count": 39,
   "metadata": {},
   "outputs": [
    {
     "data": {
      "text/plain": [
       "3000"
      ]
     },
     "execution_count": 39,
     "metadata": {},
     "output_type": "execute_result"
    }
   ],
   "source": [
    "int('3000')"
   ]
  },
  {
   "cell_type": "code",
   "execution_count": 42,
   "metadata": {},
   "outputs": [
    {
     "data": {
      "text/plain": [
       "30"
      ]
     },
     "execution_count": 42,
     "metadata": {},
     "output_type": "execute_result"
    }
   ],
   "source": [
    "#int('30.4')\n",
    "int(float('30.4'))"
   ]
  },
  {
   "cell_type": "code",
   "execution_count": 43,
   "metadata": {},
   "outputs": [
    {
     "data": {
      "text/plain": [
       "45"
      ]
     },
     "execution_count": 43,
     "metadata": {},
     "output_type": "execute_result"
    }
   ],
   "source": [
    "eval('45') # it evaluate string to python code"
   ]
  },
  {
   "cell_type": "code",
   "execution_count": 44,
   "metadata": {},
   "outputs": [
    {
     "data": {
      "text/plain": [
       "'hello'"
      ]
     },
     "execution_count": 44,
     "metadata": {},
     "output_type": "execute_result"
    }
   ],
   "source": [
    "d"
   ]
  },
  {
   "cell_type": "code",
   "execution_count": 45,
   "metadata": {},
   "outputs": [
    {
     "data": {
      "text/plain": [
       "['h', 'e', 'l', 'l', 'o']"
      ]
     },
     "execution_count": 45,
     "metadata": {},
     "output_type": "execute_result"
    }
   ],
   "source": [
    "list(d)"
   ]
  },
  {
   "cell_type": "code",
   "execution_count": 46,
   "metadata": {},
   "outputs": [
    {
     "data": {
      "text/plain": [
       "('h', 'e', 'l', 'l', 'o')"
      ]
     },
     "execution_count": 46,
     "metadata": {},
     "output_type": "execute_result"
    }
   ],
   "source": [
    "tuple(d)"
   ]
  },
  {
   "cell_type": "code",
   "execution_count": 48,
   "metadata": {},
   "outputs": [
    {
     "data": {
      "text/plain": [
       "\"['a', 'g', 2, 3]\""
      ]
     },
     "execution_count": 48,
     "metadata": {},
     "output_type": "execute_result"
    }
   ],
   "source": [
    "str(['a', 'g', 2,3])"
   ]
  },
  {
   "cell_type": "code",
   "execution_count": 52,
   "metadata": {},
   "outputs": [
    {
     "data": {
      "text/plain": [
       "{'b': [3, 6, 2]}"
      ]
     },
     "execution_count": 52,
     "metadata": {},
     "output_type": "execute_result"
    }
   ],
   "source": [
    "dict(b=e)"
   ]
  },
  {
   "cell_type": "code",
   "execution_count": 53,
   "metadata": {},
   "outputs": [
    {
     "data": {
      "text/plain": [
       "{2, 3, 6}"
      ]
     },
     "execution_count": 53,
     "metadata": {},
     "output_type": "execute_result"
    }
   ],
   "source": [
    "set(e)"
   ]
  },
  {
   "cell_type": "code",
   "execution_count": 54,
   "metadata": {},
   "outputs": [
    {
     "data": {
      "text/plain": [
       "[2, 3, 6]"
      ]
     },
     "execution_count": 54,
     "metadata": {},
     "output_type": "execute_result"
    }
   ],
   "source": [
    "list(set(e))"
   ]
  },
  {
   "cell_type": "code",
   "execution_count": 55,
   "metadata": {},
   "outputs": [
    {
     "data": {
      "text/plain": [
       "([2, 2, 3, 4, 6, 50, 100, 2000], [2, 2, 3, 4, 6, 50, 100, 1000])"
      ]
     },
     "execution_count": 55,
     "metadata": {},
     "output_type": "execute_result"
    }
   ],
   "source": [
    "e1,e2"
   ]
  },
  {
   "cell_type": "code",
   "execution_count": 56,
   "metadata": {},
   "outputs": [
    {
     "data": {
      "text/plain": [
       "[[2, 2, 3, 4, 6, 50, 100, 2000], [2, 2, 3, 4, 6, 50, 100, 1000]]"
      ]
     },
     "execution_count": 56,
     "metadata": {},
     "output_type": "execute_result"
    }
   ],
   "source": [
    "[e1,e2]"
   ]
  },
  {
   "cell_type": "code",
   "execution_count": 57,
   "metadata": {},
   "outputs": [
    {
     "data": {
      "text/plain": [
       "[2, 2, 3, 4, 6, 50, 100, 2000, 2, 2, 3, 4, 6, 50, 100, 1000]"
      ]
     },
     "execution_count": 57,
     "metadata": {},
     "output_type": "execute_result"
    }
   ],
   "source": [
    "[*e1, *e2]       # iske andar jo items h unko mein entities manunga or then iterate krunga\n",
    "\n",
    "# *e1 apne aap ko as a tuple smj k kam krta hai"
   ]
  },
  {
   "cell_type": "code",
   "execution_count": 58,
   "metadata": {},
   "outputs": [],
   "source": [
    "g1 = {'a':4, 'b': [5,6]}\n",
    "g2 = {'c': 34, 'a': 'h1'}\n"
   ]
  },
  {
   "cell_type": "code",
   "execution_count": 59,
   "metadata": {},
   "outputs": [
    {
     "ename": "TypeError",
     "evalue": "unsupported operand type(s) for +=: 'dict' and 'dict'",
     "output_type": "error",
     "traceback": [
      "\u001b[1;31m---------------------------------------------------------------------------\u001b[0m",
      "\u001b[1;31mTypeError\u001b[0m                                 Traceback (most recent call last)",
      "Cell \u001b[1;32mIn[59], line 1\u001b[0m\n\u001b[1;32m----> 1\u001b[0m g1 \u001b[39m+\u001b[39m\u001b[39m=\u001b[39m g2\n",
      "\u001b[1;31mTypeError\u001b[0m: unsupported operand type(s) for +=: 'dict' and 'dict'"
     ]
    }
   ],
   "source": [
    "g1 += g2"
   ]
  },
  {
   "cell_type": "code",
   "execution_count": 60,
   "metadata": {},
   "outputs": [
    {
     "data": {
      "text/plain": [
       "{'a': 'h1', 'b': [5, 6], 'c': 34}"
      ]
     },
     "execution_count": 60,
     "metadata": {},
     "output_type": "execute_result"
    }
   ],
   "source": [
    "g1.update(g2)         # there is a nuksan value of g is updated but not concatenated\n",
    "g1"
   ]
  },
  {
   "cell_type": "code",
   "execution_count": 61,
   "metadata": {},
   "outputs": [
    {
     "data": {
      "text/plain": [
       "{'a': 'h1', 'b': [5, 6], 'c': 34}"
      ]
     },
     "execution_count": 61,
     "metadata": {},
     "output_type": "execute_result"
    }
   ],
   "source": [
    "{**g1, **g2}              # here none of the dictionary is get updated ** behaves as a tuple"
   ]
  },
  {
   "cell_type": "code",
   "execution_count": 64,
   "metadata": {},
   "outputs": [
    {
     "data": {
      "text/plain": [
       "{'a': 'h1', 'b': [5, 6], 'c': 34, 1: 11, 2: 22}"
      ]
     },
     "execution_count": 64,
     "metadata": {},
     "output_type": "execute_result"
    }
   ],
   "source": [
    "g3 = {1:11, 2:22}\n",
    "{**g1, **g2, **g3} "
   ]
  },
  {
   "cell_type": "code",
   "execution_count": null,
   "metadata": {},
   "outputs": [],
   "source": []
  },
  {
   "cell_type": "code",
   "execution_count": null,
   "metadata": {},
   "outputs": [],
   "source": []
  },
  {
   "cell_type": "code",
   "execution_count": null,
   "metadata": {},
   "outputs": [],
   "source": [
    "# CONTROL STATEMENTS\n",
    "####################\n",
    "if-elif-else  (pass)       # conditional statement\n",
    "\n",
    "while-else    (continue, break)       # Looping statement\n",
    "for-else             \n",
    "\n",
    "try-except-else-finally     # handling statement\n",
    "\n",
    "\n",
    "#   Suites it is a concept of indentation with colon\n",
    "statement:\n",
    "    expr1\n",
    "    expr2\n",
    "statement2:\n",
    "    expr3\n",
    "    expr4\n",
    "    statement3:\n",
    "        expr5\n",
    "    expr6\n",
    "expr7"
   ]
  },
  {
   "cell_type": "code",
   "execution_count": 65,
   "metadata": {},
   "outputs": [
    {
     "name": "stdout",
     "output_type": "stream",
     "text": [
      "40\n"
     ]
    }
   ],
   "source": [
    "a = 30; b = 40; c=29;\n",
    "if a>=b and a>=c:\n",
    "    print(a)\n",
    "elif b>=c and b>=a:\n",
    "    print(b)\n",
    "else:\n",
    "    print(c)"
   ]
  },
  {
   "cell_type": "code",
   "execution_count": 4,
   "metadata": {},
   "outputs": [
    {
     "name": "stdout",
     "output_type": "stream",
     "text": [
      "hello\n",
      "achha\n",
      "hello\n",
      "hello\n",
      "achha\n",
      "hello\n",
      "achha\n",
      "hello\n",
      "achha\n",
      "oh\n"
     ]
    }
   ],
   "source": [
    "a = 30\n",
    "while(a>0):\n",
    "    print('hello')\n",
    "    a -= 7\n",
    "    if a==16:\n",
    "       continue\n",
    "       #break\n",
    "    print('achha')\n",
    "else:\n",
    "    print('oh')"
   ]
  },
  {
   "cell_type": "code",
   "execution_count": 2,
   "metadata": {},
   "outputs": [
    {
     "name": "stdout",
     "output_type": "stream",
     "text": [
      "3 30\n",
      "4 40\n",
      "5 50\n",
      "6 60\n"
     ]
    }
   ],
   "source": [
    "# for (int i=0;i<n;i++)\n",
    "# {\n",
    "#     do so\n",
    "# }\n",
    "arr = [3,4,5,6]\n",
    "# foreach(var v in arr){\n",
    "#     v\n",
    "\n",
    "for i in arr:\n",
    "    print(i, i*10) \n",
    "\n",
    "\n",
    "# FOR LOOP IS FOR SOMETHING WHEN WE NOW NUMBER OF ITERATIONS WHILE LOOP IS FOR WHERE WE KNOW CONDITION"
   ]
  },
  {
   "cell_type": "code",
   "execution_count": 5,
   "metadata": {},
   "outputs": [
    {
     "name": "stdout",
     "output_type": "stream",
     "text": [
      "2\n",
      "4\n",
      "6\n",
      "8\n",
      "10\n",
      "12\n",
      "14\n",
      "16\n",
      "18\n",
      "20\n"
     ]
    }
   ],
   "source": [
    "table = [1,2,3,4,5,6,7,8,9,10]\n",
    "num = 2\n",
    "for i in table:\n",
    "    print(i * num)"
   ]
  },
  {
   "cell_type": "code",
   "execution_count": 6,
   "metadata": {},
   "outputs": [
    {
     "data": {
      "text/plain": [
       "[1, 2, 3, 4, 5, 6, 7, 8, 9, 10]"
      ]
     },
     "execution_count": 6,
     "metadata": {},
     "output_type": "execute_result"
    }
   ],
   "source": [
    "list(range(1,11,1))"
   ]
  },
  {
   "cell_type": "code",
   "execution_count": 7,
   "metadata": {},
   "outputs": [
    {
     "name": "stdout",
     "output_type": "stream",
     "text": [
      "2\n",
      "4\n",
      "6\n",
      "8\n",
      "10\n",
      "12\n",
      "14\n",
      "16\n",
      "18\n",
      "20\n"
     ]
    }
   ],
   "source": [
    "for i in range(1,11,1):\n",
    "    print(num*i)"
   ]
  },
  {
   "cell_type": "code",
   "execution_count": 9,
   "metadata": {},
   "outputs": [
    {
     "name": "stdout",
     "output_type": "stream",
     "text": [
      "* \n",
      "* * \n",
      "* * * \n",
      "* * * * \n",
      "* * * * * \n"
     ]
    }
   ],
   "source": [
    "for i in range(1,6):\n",
    "    print(i * '* ')"
   ]
  },
  {
   "cell_type": "code",
   "execution_count": 10,
   "metadata": {},
   "outputs": [],
   "source": [
    "# Comprehensions             used at places where i need some values to pass as an argument without storing them into memory,     it is not easily readable\n",
    "# -------------------\n",
    "# conditional (not really a comprehension though)\n",
    "# list\n",
    "# dict\n",
    "# set\n",
    "# Generator\n",
    "\n",
    "\n",
    "# USE WHEN I NEED TO CREATE LIST BY MAKING USE OF LOOPS\n"
   ]
  },
  {
   "cell_type": "code",
   "execution_count": null,
   "metadata": {},
   "outputs": [],
   "source": []
  },
  {
   "cell_type": "code",
   "execution_count": 11,
   "metadata": {},
   "outputs": [],
   "source": [
    "a = [3,4,5,6,4,3,5,6,7,3,3,2,5]"
   ]
  },
  {
   "cell_type": "code",
   "execution_count": 13,
   "metadata": {},
   "outputs": [
    {
     "name": "stdout",
     "output_type": "stream",
     "text": [
      "[6, 8, 10, 12, 8, 6, 10, 12, 14, 6, 6, 4, 10]\n"
     ]
    }
   ],
   "source": [
    "b = []\n",
    "for i in a:\n",
    "    #b.append(i*2)\n",
    "    b += [i*2]\n",
    "print(b)"
   ]
  },
  {
   "cell_type": "code",
   "execution_count": null,
   "metadata": {},
   "outputs": [],
   "source": []
  },
  {
   "cell_type": "code",
   "execution_count": 15,
   "metadata": {},
   "outputs": [
    {
     "data": {
      "text/plain": [
       "[6, 8, 10, 12, 8, 6, 10, 12, 14, 6, 6, 4, 10]"
      ]
     },
     "execution_count": 15,
     "metadata": {},
     "output_type": "execute_result"
    }
   ],
   "source": [
    "# [ output  for-loop  if-condition] \n",
    "#[ output  for-loop ]\n",
    "b1 = [i*2 for i in a ]\n",
    "b1"
   ]
  },
  {
   "cell_type": "code",
   "execution_count": 17,
   "metadata": {},
   "outputs": [
    {
     "data": {
      "text/plain": [
       "[3, 5, 3, 5, 7, 3, 3, 5]"
      ]
     },
     "execution_count": 17,
     "metadata": {},
     "output_type": "execute_result"
    }
   ],
   "source": [
    "b2 = [i for i in a if i%2==1]\n",
    "b2"
   ]
  },
  {
   "cell_type": "code",
   "execution_count": 18,
   "metadata": {},
   "outputs": [
    {
     "data": {
      "text/plain": [
       "[3, 5, 3, 5, 7, 3, 3, 5]"
      ]
     },
     "execution_count": 18,
     "metadata": {},
     "output_type": "execute_result"
    }
   ],
   "source": [
    "b2 = [\n",
    "        i\n",
    "        for i in a\n",
    "        if i%2 == 1\n",
    "]\n",
    "b2"
   ]
  },
  {
   "cell_type": "code",
   "execution_count": 22,
   "metadata": {},
   "outputs": [
    {
     "name": "stdout",
     "output_type": "stream",
     "text": [
      "Even\n"
     ]
    }
   ],
   "source": [
    "# CONDITIONAL COMPREHENSION\n",
    "num = 33\n",
    "print('odd') if num%2 else print('Even')"
   ]
  },
  {
   "cell_type": "code",
   "execution_count": 23,
   "metadata": {},
   "outputs": [
    {
     "data": {
      "text/plain": [
       "['3 odd',\n",
       " '4 even',\n",
       " '5 odd',\n",
       " '6 even',\n",
       " '4 even',\n",
       " '3 odd',\n",
       " '5 odd',\n",
       " '6 even',\n",
       " '7 odd',\n",
       " '3 odd',\n",
       " '3 odd',\n",
       " '2 even',\n",
       " '5 odd']"
      ]
     },
     "execution_count": 23,
     "metadata": {},
     "output_type": "execute_result"
    }
   ],
   "source": [
    "b3 = [ f'{i} odd' if i%2 else f'{i} even' for i in a]\n",
    "b3"
   ]
  },
  {
   "cell_type": "code",
   "execution_count": 24,
   "metadata": {},
   "outputs": [
    {
     "data": {
      "text/plain": [
       "{3: 9, 4: 16, 5: 25, 6: 36, 7: 49, 2: 4}"
      ]
     },
     "execution_count": 24,
     "metadata": {},
     "output_type": "execute_result"
    }
   ],
   "source": [
    "{i : i**2 for i in a}"
   ]
  },
  {
   "cell_type": "code",
   "execution_count": 25,
   "metadata": {},
   "outputs": [
    {
     "data": {
      "text/plain": [
       "{4, 9, 16, 25, 36, 49}"
      ]
     },
     "execution_count": 25,
     "metadata": {},
     "output_type": "execute_result"
    }
   ],
   "source": [
    "{i**2 for i in a}"
   ]
  },
  {
   "cell_type": "code",
   "execution_count": null,
   "metadata": {},
   "outputs": [],
   "source": [
    "(i )"
   ]
  }
 ],
 "metadata": {
  "kernelspec": {
   "display_name": "Python 3",
   "language": "python",
   "name": "python3"
  },
  "language_info": {
   "codemirror_mode": {
    "name": "ipython",
    "version": 3
   },
   "file_extension": ".py",
   "mimetype": "text/x-python",
   "name": "python",
   "nbconvert_exporter": "python",
   "pygments_lexer": "ipython3",
   "version": "3.10.11"
  },
  "orig_nbformat": 4
 },
 "nbformat": 4,
 "nbformat_minor": 2
}
