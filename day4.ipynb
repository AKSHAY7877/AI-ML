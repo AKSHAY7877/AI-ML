{
 "cells": [
  {
   "cell_type": "code",
   "execution_count": null,
   "metadata": {},
   "outputs": [],
   "source": [
    "# user defined functions"
   ]
  },
  {
   "cell_type": "code",
   "execution_count": 3,
   "metadata": {},
   "outputs": [
    {
     "name": "stdout",
     "output_type": "stream",
     "text": [
      "hi\n"
     ]
    }
   ],
   "source": [
    "def kuchbhi():\n",
    "    print('hi')\n",
    "\n",
    "kuchbhi()"
   ]
  },
  {
   "cell_type": "code",
   "execution_count": 4,
   "metadata": {},
   "outputs": [],
   "source": [
    "# types of functions\n",
    "# 1. No input, No output\n",
    "# 2. Input, but no output\n",
    "# 3. No input, but output\n",
    "# 4. with input, with output\n"
   ]
  },
  {
   "cell_type": "code",
   "execution_count": 7,
   "metadata": {},
   "outputs": [],
   "source": [
    "def abc1():\n",
    "    print('Its no input no output function')\n",
    "\n",
    "def abc2(x):\n",
    "    print(f'its fetching x = {x} but no output')\n",
    "\n",
    "def abc3():\n",
    "    return \"Its a string returned from function as output\"\n",
    "\n",
    "def abc4(x,y):\n",
    "    return x*2, y+x+y               # A function cannot return more then 1 values it will return a tuple if values are more then one"
   ]
  },
  {
   "cell_type": "code",
   "execution_count": 8,
   "metadata": {},
   "outputs": [
    {
     "name": "stdout",
     "output_type": "stream",
     "text": [
      "Its no input no output function\n",
      "None\n"
     ]
    }
   ],
   "source": [
    "a = abc1()\n",
    "print(a)"
   ]
  },
  {
   "cell_type": "code",
   "execution_count": 11,
   "metadata": {},
   "outputs": [
    {
     "name": "stdout",
     "output_type": "stream",
     "text": [
      "Its a string returned from function as output\n"
     ]
    }
   ],
   "source": [
    "a = abc3()\n",
    "print(a)"
   ]
  },
  {
   "cell_type": "code",
   "execution_count": 12,
   "metadata": {},
   "outputs": [
    {
     "name": "stdout",
     "output_type": "stream",
     "text": [
      "(10, 21)\n"
     ]
    }
   ],
   "source": [
    "a4 = abc4(5,8)\n",
    "print(a4)"
   ]
  },
  {
   "cell_type": "code",
   "execution_count": 15,
   "metadata": {},
   "outputs": [
    {
     "name": "stdout",
     "output_type": "stream",
     "text": [
      "10\n",
      "21\n"
     ]
    }
   ],
   "source": [
    "a41, a42 = abc4(5,8)\n",
    "print(a41, a42 , sep='\\n')"
   ]
  },
  {
   "cell_type": "code",
   "execution_count": 16,
   "metadata": {},
   "outputs": [
    {
     "data": {
      "text/plain": [
       "(16, 18)"
      ]
     },
     "execution_count": 16,
     "metadata": {},
     "output_type": "execute_result"
    }
   ],
   "source": [
    "abc4(y=5, x=8)"
   ]
  },
  {
   "cell_type": "code",
   "execution_count": 18,
   "metadata": {},
   "outputs": [
    {
     "data": {
      "text/plain": [
       "(10, 25)"
      ]
     },
     "execution_count": 18,
     "metadata": {},
     "output_type": "execute_result"
    }
   ],
   "source": [
    "abc4(5, y=10)"
   ]
  },
  {
   "cell_type": "code",
   "execution_count": 19,
   "metadata": {},
   "outputs": [
    {
     "ename": "SyntaxError",
     "evalue": "positional argument follows keyword argument (1326321629.py, line 1)",
     "output_type": "error",
     "traceback": [
      "\u001b[1;36m  Cell \u001b[1;32mIn[19], line 1\u001b[1;36m\u001b[0m\n\u001b[1;33m    abc4(y=5, 8)   # positional argument must be written after keyword argument\u001b[0m\n\u001b[1;37m               ^\u001b[0m\n\u001b[1;31mSyntaxError\u001b[0m\u001b[1;31m:\u001b[0m positional argument follows keyword argument\n"
     ]
    }
   ],
   "source": [
    "abc4(y=5, 8)   # positional argument must be written after keyword argument\n",
    "# not allowed"
   ]
  },
  {
   "cell_type": "code",
   "execution_count": 20,
   "metadata": {},
   "outputs": [
    {
     "ename": "TypeError",
     "evalue": "abc4() missing 1 required positional argument: 'y'",
     "output_type": "error",
     "traceback": [
      "\u001b[1;31m---------------------------------------------------------------------------\u001b[0m",
      "\u001b[1;31mTypeError\u001b[0m                                 Traceback (most recent call last)",
      "Cell \u001b[1;32mIn[20], line 1\u001b[0m\n\u001b[1;32m----> 1\u001b[0m abc4(\u001b[39m5\u001b[39;49m)\n",
      "\u001b[1;31mTypeError\u001b[0m: abc4() missing 1 required positional argument: 'y'"
     ]
    }
   ],
   "source": [
    "abc4(5)"
   ]
  },
  {
   "cell_type": "code",
   "execution_count": 21,
   "metadata": {},
   "outputs": [
    {
     "ename": "TypeError",
     "evalue": "abc4() takes 2 positional arguments but 3 were given",
     "output_type": "error",
     "traceback": [
      "\u001b[1;31m---------------------------------------------------------------------------\u001b[0m",
      "\u001b[1;31mTypeError\u001b[0m                                 Traceback (most recent call last)",
      "Cell \u001b[1;32mIn[21], line 1\u001b[0m\n\u001b[1;32m----> 1\u001b[0m abc4(\u001b[39m5\u001b[39;49m,\u001b[39m8\u001b[39;49m,\u001b[39m9\u001b[39;49m)\n",
      "\u001b[1;31mTypeError\u001b[0m: abc4() takes 2 positional arguments but 3 were given"
     ]
    }
   ],
   "source": [
    "abc4(5,8,9)"
   ]
  },
  {
   "cell_type": "code",
   "execution_count": 22,
   "metadata": {},
   "outputs": [
    {
     "ename": "TypeError",
     "evalue": "abc4() got an unexpected keyword argument 'z'",
     "output_type": "error",
     "traceback": [
      "\u001b[1;31m---------------------------------------------------------------------------\u001b[0m",
      "\u001b[1;31mTypeError\u001b[0m                                 Traceback (most recent call last)",
      "Cell \u001b[1;32mIn[22], line 1\u001b[0m\n\u001b[1;32m----> 1\u001b[0m abc4(x\u001b[39m=\u001b[39;49m\u001b[39m9\u001b[39;49m, y\u001b[39m=\u001b[39;49m\u001b[39m4\u001b[39;49m, z\u001b[39m=\u001b[39;49m\u001b[39m10\u001b[39;49m)\n",
      "\u001b[1;31mTypeError\u001b[0m: abc4() got an unexpected keyword argument 'z'"
     ]
    }
   ],
   "source": [
    "abc4(x=9, y=4, z=10)"
   ]
  },
  {
   "cell_type": "code",
   "execution_count": 25,
   "metadata": {},
   "outputs": [],
   "source": [
    "# Default values to function argument\n",
    "def abc5(x,y=0):                            # Default values must be from right hand side\n",
    "    return x*2, y+x+y\n"
   ]
  },
  {
   "cell_type": "code",
   "execution_count": 26,
   "metadata": {},
   "outputs": [
    {
     "data": {
      "text/plain": [
       "(8, 4)"
      ]
     },
     "execution_count": 26,
     "metadata": {},
     "output_type": "execute_result"
    }
   ],
   "source": [
    "abc5(4)"
   ]
  },
  {
   "cell_type": "code",
   "execution_count": 27,
   "metadata": {},
   "outputs": [
    {
     "data": {
      "text/plain": [
       "(8, 18)"
      ]
     },
     "execution_count": 27,
     "metadata": {},
     "output_type": "execute_result"
    }
   ],
   "source": [
    "abc5(4,7)"
   ]
  },
  {
   "cell_type": "code",
   "execution_count": 28,
   "metadata": {},
   "outputs": [
    {
     "name": "stdout",
     "output_type": "stream",
     "text": [
      "(2, 1)\n",
      "(8, 4)\n",
      "(8, 14)\n"
     ]
    }
   ],
   "source": [
    "def abc5(x=1,y=0):                            # Default values must be from right hand side\n",
    "    return x*2, y+x+y\n",
    "\n",
    "print(abc5())\n",
    "print(abc5(4))\n",
    "print(abc5(4,5))"
   ]
  },
  {
   "cell_type": "code",
   "execution_count": 34,
   "metadata": {},
   "outputs": [],
   "source": [
    "# *args, **kwargs they should also present at last\n",
    "def abc6(x=1,y=0,*p, **q):\n",
    "    print(x*2, y+x+y)\n",
    "    print(p)\n",
    "    print(q)\n",
    "    print('')"
   ]
  },
  {
   "cell_type": "code",
   "execution_count": 41,
   "metadata": {},
   "outputs": [
    {
     "name": "stdout",
     "output_type": "stream",
     "text": [
      "2 1\n",
      "()\n",
      "{}\n",
      "\n",
      "10 13\n",
      "()\n",
      "{}\n",
      "\n",
      "10 13\n",
      "(3, 4, 56, 7, 'hii', 'by')\n",
      "{}\n",
      "\n",
      "10 13\n",
      "(3, 4, 56, 7, 'hii', 'by')\n",
      "{'m': 23, 'n': [4, 7, 8]}\n",
      "\n",
      "10 13\n",
      "(3, 4, 56, 7, 'hii', 'by')\n",
      "{'p': 23, 'q': [4, 7, 8]}\n",
      "\n",
      "10 13\n",
      "(3, 4, 56, 7, 'hii', 'by', 23)\n",
      "{'f': [45, 6], 'z': 34}\n",
      "\n"
     ]
    }
   ],
   "source": [
    "abc6()\n",
    "abc6(5,4)\n",
    "abc6(5,4,3,4,56,7,'hii','by')\n",
    "abc6(5,4,3,4,56,7,'hii','by', m=23,n=[4,7,8])\n",
    "\n",
    "abc6(5,4,3,4,56,7,'hii','by', p=23,q=[4,7,8])\n",
    "\n",
    "abc6(5,4,3,4,56,7,'hii','by', 23, **{'f':[45,6], 'z':34})"
   ]
  },
  {
   "cell_type": "code",
   "execution_count": null,
   "metadata": {},
   "outputs": [],
   "source": []
  },
  {
   "cell_type": "code",
   "execution_count": 42,
   "metadata": {},
   "outputs": [],
   "source": [
    "# ERROR AND EXCEPTION HANDLING\n",
    "    # try-except-else-finally\n",
    "    # Built-in functions"
   ]
  },
  {
   "cell_type": "code",
   "execution_count": 45,
   "metadata": {},
   "outputs": [
    {
     "ename": "ValueError",
     "evalue": "invalid literal for int() with base 10: '3.0'",
     "output_type": "error",
     "traceback": [
      "\u001b[1;31m---------------------------------------------------------------------------\u001b[0m",
      "\u001b[1;31mValueError\u001b[0m                                Traceback (most recent call last)",
      "Cell \u001b[1;32mIn[45], line 2\u001b[0m\n\u001b[0;32m      1\u001b[0m a \u001b[39m=\u001b[39m \u001b[39m10\u001b[39m\n\u001b[1;32m----> 2\u001b[0m b \u001b[39m=\u001b[39m \u001b[39mint\u001b[39;49m(\u001b[39minput\u001b[39;49m(\u001b[39m'\u001b[39;49m\u001b[39mEnter the number : \u001b[39;49m\u001b[39m'\u001b[39;49m))\n\u001b[0;32m      3\u001b[0m \u001b[39mprint\u001b[39m(a\u001b[39m/\u001b[39mb)\n",
      "\u001b[1;31mValueError\u001b[0m: invalid literal for int() with base 10: '3.0'"
     ]
    }
   ],
   "source": [
    "a = 10\n",
    "b = int(input('Enter the number : '))\n",
    "print(a/b)"
   ]
  },
  {
   "cell_type": "code",
   "execution_count": 59,
   "metadata": {},
   "outputs": [
    {
     "name": "stdout",
     "output_type": "stream",
     "text": [
      "invalid literal for int() with base 10: ''\n",
      "kam ho gya\n"
     ]
    }
   ],
   "source": [
    "try:\n",
    "    a = 10\n",
    "    b = int(input('Enter the number : '))\n",
    "    print(a/b)\n",
    "except ValueError as err:\n",
    "    print(err,b)\n",
    "    print(a)\n",
    "except ZeroDivisionError as err:\n",
    "    print(err,b)\n",
    "    print(a)\n",
    "except KeyboardInterrupt as err:\n",
    "    print(err)\n",
    "    print('oh aap kam nii krna chate')\n",
    "except Exception as err:\n",
    "    print(err)\n",
    "\n",
    "print('kam ho gya')"
   ]
  },
  {
   "cell_type": "code",
   "execution_count": 60,
   "metadata": {},
   "outputs": [
    {
     "name": "stdout",
     "output_type": "stream",
     "text": [
      "invalid literal for int() with base 10: '2.5'\n",
      "kam ho gya\n"
     ]
    }
   ],
   "source": [
    "try:\n",
    "    a = 10\n",
    "    b = int(input('Enter the number : '))\n",
    "    print(a/b)\n",
    "# except ValueError as err:\n",
    "#     print(err,b)\n",
    "#     print(a)\n",
    "# except ZeroDivisionError as err:\n",
    "#     print(err,b)\n",
    "#     print(a)\n",
    "# except KeyboardInterrupt as err:\n",
    "#     print(err)\n",
    "#     print('oh aap kam nii krna chate')\n",
    "except Exception as err:\n",
    "    print(err)\n",
    "\n",
    "print('kam ho gya')"
   ]
  },
  {
   "cell_type": "code",
   "execution_count": 64,
   "metadata": {},
   "outputs": [
    {
     "name": "stdout",
     "output_type": "stream",
     "text": [
      "Marte marte raaz btake jauunga\n"
     ]
    },
    {
     "ename": "ZeroDivisionError",
     "evalue": "division by zero",
     "output_type": "error",
     "traceback": [
      "\u001b[1;31m---------------------------------------------------------------------------\u001b[0m",
      "\u001b[1;31mZeroDivisionError\u001b[0m                         Traceback (most recent call last)",
      "Cell \u001b[1;32mIn[64], line 4\u001b[0m\n\u001b[0;32m      2\u001b[0m     a \u001b[39m=\u001b[39m \u001b[39m10\u001b[39m\n\u001b[0;32m      3\u001b[0m     b \u001b[39m=\u001b[39m \u001b[39mint\u001b[39m(\u001b[39minput\u001b[39m(\u001b[39m'\u001b[39m\u001b[39mEnter the number : \u001b[39m\u001b[39m'\u001b[39m))\n\u001b[1;32m----> 4\u001b[0m     \u001b[39mprint\u001b[39m(a\u001b[39m/\u001b[39;49mb)\n\u001b[0;32m      5\u001b[0m \u001b[39mexcept\u001b[39;00m \u001b[39mValueError\u001b[39;00m \u001b[39mas\u001b[39;00m err:\n\u001b[0;32m      6\u001b[0m     \u001b[39mprint\u001b[39m(err,b)\n",
      "\u001b[1;31mZeroDivisionError\u001b[0m: division by zero"
     ]
    }
   ],
   "source": [
    "try:\n",
    "    a = 10\n",
    "    b = int(input('Enter the number : '))\n",
    "    print(a/b)\n",
    "except ValueError as err:\n",
    "    print(err,b)\n",
    "    print(a)\n",
    "# except ZeroDivisionError as err:\n",
    "#     print(err,b)\n",
    "#     print(a)\n",
    "# except KeyboardInterrupt as err:\n",
    "#     print(err)\n",
    "#     print('oh aap kam nii krna chate')\n",
    "# except Exception as err:\n",
    "#     print(err)\n",
    "else:\n",
    "    print('sab bhadiya')\n",
    "finally:\n",
    "    print('Marte marte raaz btake jauunga')\n",
    "\n",
    "print('kam ho gya')"
   ]
  },
  {
   "cell_type": "code",
   "execution_count": 65,
   "metadata": {},
   "outputs": [],
   "source": [
    "# Scope of variable\n",
    "\n",
    "\n",
    "## In Python a function can be \n",
    "#### assigned to a variable\n",
    "#### can be passed as an argument to a function\n",
    "#### can be defined inside another function\n",
    "#### returned from another function "
   ]
  },
  {
   "cell_type": "code",
   "execution_count": 66,
   "metadata": {},
   "outputs": [
    {
     "name": "stdout",
     "output_type": "stream",
     "text": [
      "10\n",
      "10\n"
     ]
    }
   ],
   "source": [
    "a = 10\n",
    "def xyz():\n",
    "    print(a)\n",
    "print(a)\n",
    "xyz()"
   ]
  },
  {
   "cell_type": "code",
   "execution_count": 71,
   "metadata": {},
   "outputs": [
    {
     "name": "stdout",
     "output_type": "stream",
     "text": [
      "10\n",
      "30\n",
      "30\n"
     ]
    }
   ],
   "source": [
    "a = 10\n",
    "def xyz():\n",
    "    global a\n",
    "    a += 20    \n",
    "    print(a)\n",
    "print(a)\n",
    "xyz()\n",
    "print(a)"
   ]
  },
  {
   "cell_type": "code",
   "execution_count": 74,
   "metadata": {},
   "outputs": [],
   "source": [
    "def abc(x,y):\n",
    "    return x+y"
   ]
  },
  {
   "cell_type": "code",
   "execution_count": 76,
   "metadata": {},
   "outputs": [],
   "source": [
    "#k = abc(3,4)\n",
    "k = abc"
   ]
  },
  {
   "cell_type": "code",
   "execution_count": 77,
   "metadata": {},
   "outputs": [
    {
     "data": {
      "text/plain": [
       "<function __main__.abc(x, y)>"
      ]
     },
     "execution_count": 77,
     "metadata": {},
     "output_type": "execute_result"
    }
   ],
   "source": [
    "abc"
   ]
  },
  {
   "cell_type": "code",
   "execution_count": 78,
   "metadata": {},
   "outputs": [
    {
     "data": {
      "text/plain": [
       "<function __main__.abc(x, y)>"
      ]
     },
     "execution_count": 78,
     "metadata": {},
     "output_type": "execute_result"
    }
   ],
   "source": [
    "k"
   ]
  },
  {
   "cell_type": "code",
   "execution_count": 84,
   "metadata": {},
   "outputs": [],
   "source": [
    "def pot():\n",
    "    print(\"pot\")"
   ]
  },
  {
   "cell_type": "code",
   "execution_count": 85,
   "metadata": {},
   "outputs": [],
   "source": [
    "def pqr(f):\n",
    "    f()"
   ]
  },
  {
   "cell_type": "code",
   "execution_count": 86,
   "metadata": {},
   "outputs": [
    {
     "name": "stdout",
     "output_type": "stream",
     "text": [
      "pot\n"
     ]
    }
   ],
   "source": [
    "pqr(pot)"
   ]
  },
  {
   "cell_type": "code",
   "execution_count": 87,
   "metadata": {},
   "outputs": [
    {
     "name": "stdout",
     "output_type": "stream",
     "text": [
      "nox\n"
     ]
    }
   ],
   "source": [
    "def basket():\n",
    "    def dox():\n",
    "        print('nox')\n",
    "    dox()\n",
    "\n",
    "basket()"
   ]
  },
  {
   "cell_type": "code",
   "execution_count": 88,
   "metadata": {},
   "outputs": [],
   "source": [
    "def awesome(f, m, n):\n",
    "    return f, m+n"
   ]
  },
  {
   "cell_type": "code",
   "execution_count": 90,
   "metadata": {},
   "outputs": [],
   "source": [
    "p = awesome(pot, 3,4)"
   ]
  },
  {
   "cell_type": "code",
   "execution_count": 91,
   "metadata": {},
   "outputs": [
    {
     "name": "stdout",
     "output_type": "stream",
     "text": [
      "pot\n"
     ]
    }
   ],
   "source": [
    "p[0]()"
   ]
  },
  {
   "cell_type": "code",
   "execution_count": 92,
   "metadata": {},
   "outputs": [],
   "source": [
    "# OOOORRRRRR\n",
    "p, _ = awesome(pot,3,4)\n"
   ]
  },
  {
   "cell_type": "code",
   "execution_count": 93,
   "metadata": {},
   "outputs": [
    {
     "name": "stdout",
     "output_type": "stream",
     "text": [
      "pot\n"
     ]
    }
   ],
   "source": [
    "p()"
   ]
  },
  {
   "cell_type": "code",
   "execution_count": 94,
   "metadata": {},
   "outputs": [
    {
     "data": {
      "text/plain": [
       "7"
      ]
     },
     "execution_count": 94,
     "metadata": {},
     "output_type": "execute_result"
    }
   ],
   "source": [
    "_"
   ]
  },
  {
   "cell_type": "code",
   "execution_count": 95,
   "metadata": {},
   "outputs": [],
   "source": [
    "####  DECORATOR  ----> it is a concept in python which might help for inheritance\n",
    "def decorate(f):\n",
    "    def special():\n",
    "        print('ye to special hai')\n",
    "        f()\n",
    "        print('Decorate ho gya')\n",
    "    return special"
   ]
  },
  {
   "cell_type": "code",
   "execution_count": 99,
   "metadata": {},
   "outputs": [],
   "source": [
    "def simple():\n",
    "    print('mein to bhoot simple hu')\n",
    "\n",
    "simple=decorate(simple)"
   ]
  },
  {
   "cell_type": "code",
   "execution_count": 100,
   "metadata": {},
   "outputs": [
    {
     "name": "stdout",
     "output_type": "stream",
     "text": [
      "ye to special hai\n",
      "mein to bhoot simple hu\n",
      "Decorate ho gya\n"
     ]
    }
   ],
   "source": [
    "simple()"
   ]
  },
  {
   "cell_type": "code",
   "execution_count": 105,
   "metadata": {},
   "outputs": [],
   "source": [
    "####  DECORATOR  ----> it is a concept in python which might help for inheritance\n",
    "def nayaWala(f):\n",
    "    def special():\n",
    "        print('ye to special hai')\n",
    "        f()\n",
    "        print('Decorate ho gya')\n",
    "    return special"
   ]
  },
  {
   "cell_type": "code",
   "execution_count": 106,
   "metadata": {},
   "outputs": [],
   "source": [
    "@nayaWala\n",
    "@nayaWala\n",
    "def simple():\n",
    "    print('mein to bhoot simple hu')\n",
    "\n",
    "simple=decorate(simple)"
   ]
  },
  {
   "cell_type": "code",
   "execution_count": 107,
   "metadata": {},
   "outputs": [
    {
     "name": "stdout",
     "output_type": "stream",
     "text": [
      "ye to special hai\n",
      "ye to special hai\n",
      "ye to special hai\n",
      "mein to bhoot simple hu\n",
      "Decorate ho gya\n",
      "Decorate ho gya\n",
      "Decorate ho gya\n"
     ]
    }
   ],
   "source": [
    "simple()"
   ]
  },
  {
   "cell_type": "code",
   "execution_count": 111,
   "metadata": {},
   "outputs": [],
   "source": [
    "def akii():\n",
    "    print('akshay')"
   ]
  },
  {
   "cell_type": "code",
   "execution_count": 112,
   "metadata": {},
   "outputs": [],
   "source": [
    "def dec1(f):\n",
    "    def fun():\n",
    "        print('this is inside dec fun')\n",
    "        f()\n",
    "        print('decorate is done')\n",
    "    return fun"
   ]
  },
  {
   "cell_type": "code",
   "execution_count": 113,
   "metadata": {},
   "outputs": [],
   "source": [
    "k = dec1(akii)"
   ]
  },
  {
   "cell_type": "code",
   "execution_count": 114,
   "metadata": {},
   "outputs": [
    {
     "name": "stdout",
     "output_type": "stream",
     "text": [
      "this is inside dec fun\n",
      "akshay\n",
      "decorate is done\n"
     ]
    }
   ],
   "source": [
    "k()"
   ]
  },
  {
   "cell_type": "code",
   "execution_count": null,
   "metadata": {},
   "outputs": [],
   "source": []
  },
  {
   "cell_type": "code",
   "execution_count": null,
   "metadata": {},
   "outputs": [],
   "source": []
  },
  {
   "cell_type": "code",
   "execution_count": null,
   "metadata": {},
   "outputs": [],
   "source": []
  },
  {
   "cell_type": "code",
   "execution_count": 118,
   "metadata": {},
   "outputs": [],
   "source": [
    "## Annonymous Functions\n",
    "#######################\n",
    "# Lambda Expression                              these are one liners\n",
    "\n",
    "\n",
    "# lambda ip_args: op_args                      op_args behaviour is that they are always returned"
   ]
  },
  {
   "cell_type": "code",
   "execution_count": 119,
   "metadata": {},
   "outputs": [
    {
     "name": "stdout",
     "output_type": "stream",
     "text": [
      "12\n"
     ]
    }
   ],
   "source": [
    "def normal(x,y):\n",
    "    return x*y\n",
    "\n",
    "m = normal(3,4)\n",
    "print(m)"
   ]
  },
  {
   "cell_type": "code",
   "execution_count": 123,
   "metadata": {},
   "outputs": [
    {
     "data": {
      "text/plain": [
       "20"
      ]
     },
     "execution_count": 123,
     "metadata": {},
     "output_type": "execute_result"
    }
   ],
   "source": [
    "normals = lambda x, y: x * y\n",
    "normals(4,5)"
   ]
  },
  {
   "cell_type": "code",
   "execution_count": 134,
   "metadata": {},
   "outputs": [
    {
     "name": "stdout",
     "output_type": "stream",
     "text": [
      "None\n",
      "None\n",
      "None\n"
     ]
    }
   ],
   "source": [
    "def my_mapper(func, values):\n",
    "    result = []\n",
    "    for value in values:\n",
    "        result += [func(value)]\n",
    "    return result\n",
    "\n",
    "data = [6,7,4,3,3,5]\n",
    "print(my_mapper(lambda x:x*2, data))\n",
    "print(my_mapper(lambda x:x*2 if x%2 else x/2, data))\n",
    "print(my_mapper(lambda x:str(x), data))\n",
    "\n",
    "\n",
    "# def first(v):\n",
    "#     return v*2\n",
    "# def second(v):\n",
    "#     return v*2 if v%2 else v/2\n",
    "# def third(v):\n",
    "#     return str(v)\n",
    "\n",
    "# print(my_mapper(first,data))\n",
    "# print(my_mapper(second,data))\n",
    "# print(my_mapper(third,data))"
   ]
  },
  {
   "cell_type": "code",
   "execution_count": 125,
   "metadata": {},
   "outputs": [],
   "source": []
  },
  {
   "cell_type": "code",
   "execution_count": 126,
   "metadata": {},
   "outputs": [],
   "source": []
  },
  {
   "cell_type": "code",
   "execution_count": null,
   "metadata": {},
   "outputs": [],
   "source": []
  }
 ],
 "metadata": {
  "kernelspec": {
   "display_name": "Python 3",
   "language": "python",
   "name": "python3"
  },
  "language_info": {
   "codemirror_mode": {
    "name": "ipython",
    "version": 3
   },
   "file_extension": ".py",
   "mimetype": "text/x-python",
   "name": "python",
   "nbconvert_exporter": "python",
   "pygments_lexer": "ipython3",
   "version": "3.10.11"
  },
  "orig_nbformat": 4
 },
 "nbformat": 4,
 "nbformat_minor": 2
}
