{
 "cells": [
  {
   "cell_type": "code",
   "execution_count": null,
   "metadata": {},
   "outputs": [],
   "source": [
    "# user defined functions"
   ]
  },
  {
   "cell_type": "code",
   "execution_count": 3,
   "metadata": {},
   "outputs": [
    {
     "name": "stdout",
     "output_type": "stream",
     "text": [
      "hi\n"
     ]
    }
   ],
   "source": [
    "def kuchbhi():\n",
    "    print('hi')\n",
    "\n",
    "kuchbhi()"
   ]
  },
  {
   "cell_type": "code",
   "execution_count": 4,
   "metadata": {},
   "outputs": [],
   "source": [
    "# types of functions\n",
    "# 1. No input, No output\n",
    "# 2. Input, but no output\n",
    "# 3. No input, but output\n",
    "# 4. with input, with output\n"
   ]
  },
  {
   "cell_type": "code",
   "execution_count": 7,
   "metadata": {},
   "outputs": [],
   "source": [
    "def abc1():\n",
    "    print('Its no input no output function')\n",
    "\n",
    "def abc2(x):\n",
    "    print(f'its fetching x = {x} but no output')\n",
    "\n",
    "def abc3():\n",
    "    return \"Its a string returned from function as output\"\n",
    "\n",
    "def abc4(x,y):\n",
    "    return x*2, y+x+y               # A function cannot return more then 1 values it will return a tuple if values are more then one"
   ]
  },
  {
   "cell_type": "code",
   "execution_count": 8,
   "metadata": {},
   "outputs": [
    {
     "name": "stdout",
     "output_type": "stream",
     "text": [
      "Its no input no output function\n",
      "None\n"
     ]
    }
   ],
   "source": [
    "a = abc1()\n",
    "print(a)"
   ]
  },
  {
   "cell_type": "code",
   "execution_count": 11,
   "metadata": {},
   "outputs": [
    {
     "name": "stdout",
     "output_type": "stream",
     "text": [
      "Its a string returned from function as output\n"
     ]
    }
   ],
   "source": [
    "a = abc3()\n",
    "print(a)"
   ]
  },
  {
   "cell_type": "code",
   "execution_count": 12,
   "metadata": {},
   "outputs": [
    {
     "name": "stdout",
     "output_type": "stream",
     "text": [
      "(10, 21)\n"
     ]
    }
   ],
   "source": [
    "a4 = abc4(5,8)\n",
    "print(a4)"
   ]
  },
  {
   "cell_type": "code",
   "execution_count": 15,
   "metadata": {},
   "outputs": [
    {
     "name": "stdout",
     "output_type": "stream",
     "text": [
      "10\n",
      "21\n"
     ]
    }
   ],
   "source": [
    "a41, a42 = abc4(5,8)\n",
    "print(a41, a42 , sep='\\n')"
   ]
  },
  {
   "cell_type": "code",
   "execution_count": 5,
   "metadata": {},
   "outputs": [
    {
     "ename": "SyntaxError",
     "evalue": "positional argument follows keyword argument (1340236993.py, line 6)",
     "output_type": "error",
     "traceback": [
      "\u001b[1;36m  Cell \u001b[1;32mIn[5], line 6\u001b[1;36m\u001b[0m\n\u001b[1;33m    print(abc4(y=0,3))\u001b[0m\n\u001b[1;37m                    ^\u001b[0m\n\u001b[1;31mSyntaxError\u001b[0m\u001b[1;31m:\u001b[0m positional argument follows keyword argument\n"
     ]
    }
   ],
   "source": [
    "def abc4(x,y):\n",
    "    return x*2, y+x+y  \n",
    "print(abc4(2,3))\n",
    "print(abc4(y=2,x=3))\n",
    "print(abc4(3,y=0))\n",
    "print(abc4(y=0,3))"
   ]
  },
  {
   "cell_type": "code",
   "execution_count": 16,
   "metadata": {},
   "outputs": [
    {
     "data": {
      "text/plain": [
       "(16, 18)"
      ]
     },
     "execution_count": 16,
     "metadata": {},
     "output_type": "execute_result"
    }
   ],
   "source": [
    "abc4(y=5, x=8)"
   ]
  },
  {
   "cell_type": "code",
   "execution_count": 18,
   "metadata": {},
   "outputs": [
    {
     "data": {
      "text/plain": [
       "(10, 25)"
      ]
     },
     "execution_count": 18,
     "metadata": {},
     "output_type": "execute_result"
    }
   ],
   "source": [
    "abc4(5, y=10)"
   ]
  },
  {
   "cell_type": "code",
   "execution_count": 19,
   "metadata": {},
   "outputs": [
    {
     "ename": "SyntaxError",
     "evalue": "positional argument follows keyword argument (1326321629.py, line 1)",
     "output_type": "error",
     "traceback": [
      "\u001b[1;36m  Cell \u001b[1;32mIn[19], line 1\u001b[1;36m\u001b[0m\n\u001b[1;33m    abc4(y=5, 8)   # positional argument must be written after keyword argument\u001b[0m\n\u001b[1;37m               ^\u001b[0m\n\u001b[1;31mSyntaxError\u001b[0m\u001b[1;31m:\u001b[0m positional argument follows keyword argument\n"
     ]
    }
   ],
   "source": [
    "abc4(y=5, 8)   # positional argument must be written after keyword argument\n",
    "# not allowed"
   ]
  },
  {
   "cell_type": "code",
   "execution_count": 20,
   "metadata": {},
   "outputs": [
    {
     "ename": "TypeError",
     "evalue": "abc4() missing 1 required positional argument: 'y'",
     "output_type": "error",
     "traceback": [
      "\u001b[1;31m---------------------------------------------------------------------------\u001b[0m",
      "\u001b[1;31mTypeError\u001b[0m                                 Traceback (most recent call last)",
      "Cell \u001b[1;32mIn[20], line 1\u001b[0m\n\u001b[1;32m----> 1\u001b[0m abc4(\u001b[39m5\u001b[39;49m)\n",
      "\u001b[1;31mTypeError\u001b[0m: abc4() missing 1 required positional argument: 'y'"
     ]
    }
   ],
   "source": [
    "abc4(5)"
   ]
  },
  {
   "cell_type": "code",
   "execution_count": 21,
   "metadata": {},
   "outputs": [
    {
     "ename": "TypeError",
     "evalue": "abc4() takes 2 positional arguments but 3 were given",
     "output_type": "error",
     "traceback": [
      "\u001b[1;31m---------------------------------------------------------------------------\u001b[0m",
      "\u001b[1;31mTypeError\u001b[0m                                 Traceback (most recent call last)",
      "Cell \u001b[1;32mIn[21], line 1\u001b[0m\n\u001b[1;32m----> 1\u001b[0m abc4(\u001b[39m5\u001b[39;49m,\u001b[39m8\u001b[39;49m,\u001b[39m9\u001b[39;49m)\n",
      "\u001b[1;31mTypeError\u001b[0m: abc4() takes 2 positional arguments but 3 were given"
     ]
    }
   ],
   "source": [
    "abc4(5,8,9)"
   ]
  },
  {
   "cell_type": "code",
   "execution_count": 22,
   "metadata": {},
   "outputs": [
    {
     "ename": "TypeError",
     "evalue": "abc4() got an unexpected keyword argument 'z'",
     "output_type": "error",
     "traceback": [
      "\u001b[1;31m---------------------------------------------------------------------------\u001b[0m",
      "\u001b[1;31mTypeError\u001b[0m                                 Traceback (most recent call last)",
      "Cell \u001b[1;32mIn[22], line 1\u001b[0m\n\u001b[1;32m----> 1\u001b[0m abc4(x\u001b[39m=\u001b[39;49m\u001b[39m9\u001b[39;49m, y\u001b[39m=\u001b[39;49m\u001b[39m4\u001b[39;49m, z\u001b[39m=\u001b[39;49m\u001b[39m10\u001b[39;49m)\n",
      "\u001b[1;31mTypeError\u001b[0m: abc4() got an unexpected keyword argument 'z'"
     ]
    }
   ],
   "source": [
    "abc4(x=9, y=4, z=10)"
   ]
  },
  {
   "cell_type": "code",
   "execution_count": 6,
   "metadata": {},
   "outputs": [
    {
     "data": {
      "text/plain": [
       "(8, 4)"
      ]
     },
     "execution_count": 6,
     "metadata": {},
     "output_type": "execute_result"
    }
   ],
   "source": [
    "# Default values to function argument\n",
    "def abc5(x,y=0):                            # Default values must be from right hand side\n",
    "    return x*2, y+x+y\n",
    "abc5(4)"
   ]
  },
  {
   "cell_type": "code",
   "execution_count": 9,
   "metadata": {},
   "outputs": [
    {
     "data": {
      "text/plain": [
       "(4, 4)"
      ]
     },
     "execution_count": 9,
     "metadata": {},
     "output_type": "execute_result"
    }
   ],
   "source": [
    "def a(x,y=1):\n",
    "    return x*2, y*2\n",
    "a(2,2)"
   ]
  },
  {
   "cell_type": "code",
   "execution_count": 27,
   "metadata": {},
   "outputs": [
    {
     "data": {
      "text/plain": [
       "(8, 18)"
      ]
     },
     "execution_count": 27,
     "metadata": {},
     "output_type": "execute_result"
    }
   ],
   "source": [
    "abc5(4,7)"
   ]
  },
  {
   "cell_type": "code",
   "execution_count": 10,
   "metadata": {},
   "outputs": [
    {
     "name": "stdout",
     "output_type": "stream",
     "text": [
      "(2, 1)\n",
      "(8, 4)\n",
      "(8, 14)\n"
     ]
    }
   ],
   "source": [
    "def abc5(x=1,y=0):                            # Default values must be from right hand side\n",
    "    return x*2, y+x+y\n",
    "\n",
    "print(abc5())\n",
    "print(abc5(4))\n",
    "print(abc5(4,5))"
   ]
  },
  {
   "cell_type": "code",
   "execution_count": null,
   "metadata": {},
   "outputs": [],
   "source": []
  },
  {
   "cell_type": "code",
   "execution_count": 32,
   "metadata": {},
   "outputs": [],
   "source": [
    "# *args, **kwargs\n",
    "def abc6(x=1, y=0, *args, **kwargs):\n",
    "    print(x,y)\n",
    "    print(args)\n",
    "    print(kwargs)\n",
    "    print('')"
   ]
  },
  {
   "cell_type": "code",
   "execution_count": 33,
   "metadata": {},
   "outputs": [
    {
     "name": "stdout",
     "output_type": "stream",
     "text": [
      "1 0\n",
      "()\n",
      "{}\n",
      "\n",
      "5 4\n",
      "()\n",
      "{}\n",
      "\n",
      "5 4\n",
      "(9, 10, 34, 456, 'hi', 23)\n",
      "{}\n",
      "\n",
      "5 4\n",
      "(9, 10, 34, 456, 'hi', 23)\n",
      "{'a': [1, 2, 3]}\n",
      "\n",
      "5 4\n",
      "(9, 10, 34, 456, 'hi', 23)\n",
      "{'a': [1, 2, 3], 'b': [4, 5, 6]}\n",
      "\n",
      "5 4\n",
      "(9, 10, 34, 456, 'hi', 23)\n",
      "{'f': [12, 3], 'z': [11, 12]}\n",
      "\n"
     ]
    }
   ],
   "source": [
    "abc6()\n",
    "abc6(5,4)\n",
    "abc6(5,4,9,10,34,456, 'hi', 23)\n",
    "abc6(5,4,9,10,34,456, 'hi', 23, a=[1,2,3])\n",
    "abc6(5,4,9,10,34,456, 'hi', 23, a=[1,2,3], b=[4,5,6])\n",
    "abc6(5,4,9,10,34,456, 'hi', 23, **{'f':[12,3], 'z':[11,12]})\n"
   ]
  },
  {
   "cell_type": "code",
   "execution_count": null,
   "metadata": {},
   "outputs": [],
   "source": []
  },
  {
   "cell_type": "code",
   "execution_count": 42,
   "metadata": {},
   "outputs": [],
   "source": [
    "# ERROR AND EXCEPTION HANDLING\n",
    "    # try-except-else-finally\n",
    "    # Built-in functions"
   ]
  },
  {
   "cell_type": "code",
   "execution_count": 45,
   "metadata": {},
   "outputs": [
    {
     "ename": "ValueError",
     "evalue": "invalid literal for int() with base 10: '3.0'",
     "output_type": "error",
     "traceback": [
      "\u001b[1;31m---------------------------------------------------------------------------\u001b[0m",
      "\u001b[1;31mValueError\u001b[0m                                Traceback (most recent call last)",
      "Cell \u001b[1;32mIn[45], line 2\u001b[0m\n\u001b[0;32m      1\u001b[0m a \u001b[39m=\u001b[39m \u001b[39m10\u001b[39m\n\u001b[1;32m----> 2\u001b[0m b \u001b[39m=\u001b[39m \u001b[39mint\u001b[39;49m(\u001b[39minput\u001b[39;49m(\u001b[39m'\u001b[39;49m\u001b[39mEnter the number : \u001b[39;49m\u001b[39m'\u001b[39;49m))\n\u001b[0;32m      3\u001b[0m \u001b[39mprint\u001b[39m(a\u001b[39m/\u001b[39mb)\n",
      "\u001b[1;31mValueError\u001b[0m: invalid literal for int() with base 10: '3.0'"
     ]
    }
   ],
   "source": [
    "a = 10\n",
    "b = int(input('Enter the number : '))\n",
    "print(a/b)"
   ]
  },
  {
   "cell_type": "code",
   "execution_count": 43,
   "metadata": {},
   "outputs": [
    {
     "name": "stdout",
     "output_type": "stream",
     "text": [
      "invalid literal for int() with base 10: 'd'\n",
      "the entered value is 4\n",
      "Exception handelled\n",
      "kaam ho gaya\n"
     ]
    }
   ],
   "source": [
    "try:\n",
    "    a = 10\n",
    "    b = int(input(\"Enter the number : \"))\n",
    "    print(a/b)\n",
    "except ValueError as err:\n",
    "    print(str(err) + f\"\\nthe entered value is {b}\" + \"\\nException handelled\")\n",
    "\n",
    "print(\"\\nkaam ho gaya\")"
   ]
  },
  {
   "cell_type": "code",
   "execution_count": 45,
   "metadata": {},
   "outputs": [
    {
     "name": "stdout",
     "output_type": "stream",
     "text": [
      "2.0\n",
      "\n",
      "ALL GOOD\n",
      "\n",
      "kaam ho gaya\n"
     ]
    }
   ],
   "source": [
    "try:\n",
    "    a = 10\n",
    "    b = int(input(\"Enter the number : \"))\n",
    "    print(a/b)\n",
    "except ValueError as err:\n",
    "    print(str(err) + f\"\\nthe entered value is {b}\" + \"\\nException handelled\")\n",
    "except ZeroDivisionError as err:\n",
    "    print(str(err) + f\"\\nthe entered value is {b}\" + \"\\nException handelled\")\n",
    "else:\n",
    "    print(\"\\nALL GOOD\")\n",
    "print(\"\\nkaam ho gaya\")"
   ]
  },
  {
   "cell_type": "code",
   "execution_count": 48,
   "metadata": {},
   "outputs": [
    {
     "name": "stdout",
     "output_type": "stream",
     "text": [
      "invalid literal for int() with base 10: ''\n",
      "the entered value is 5\n",
      "Exception handelled\n",
      "\n",
      "kaam ho gaya\n"
     ]
    }
   ],
   "source": [
    "try:\n",
    "    a = 10\n",
    "    b = int(input(\"Enter the number : \"))\n",
    "    print(a/b)\n",
    "except ValueError as err:\n",
    "    print(str(err) + f\"\\nthe entered value is {b}\" + \"\\nException handelled\")\n",
    "except ZeroDivisionError as err:\n",
    "    print(str(err) + f\"\\nthe entered value is {b}\" + \"\\nException handelled\")\n",
    "except KeyboardInterrupt as err:\n",
    "    print('Oh!! aap kam nii kr skte')\n",
    "else:\n",
    "    print(\"\\nALL GOOD\")\n",
    "print(\"\\nkaam ho gaya\")"
   ]
  },
  {
   "cell_type": "code",
   "execution_count": 7,
   "metadata": {},
   "outputs": [
    {
     "name": "stdout",
     "output_type": "stream",
     "text": [
      "invalid literal for int() with base 10: 'd'\n",
      "kam ho gya\n"
     ]
    }
   ],
   "source": [
    "try:\n",
    "    a = 10\n",
    "    b = int(input('Enter the number : '))\n",
    "    print(a/b)\n",
    "#except ValueError as err:\n",
    "#      print(err,b)\n",
    "# except ZeroDivisionError as err:\n",
    "#     print(err,b)\n",
    "# except KeyboardInterrupt as err:\n",
    "#     print(err)\n",
    "#     print('oh aap kam nii krna chate')\n",
    "except Exception as err:\n",
    "    print(err)\n",
    "else:\n",
    "    print(\"\\nALL GOOD\")\n",
    "\n",
    "print('kam ho gya')"
   ]
  },
  {
   "cell_type": "code",
   "execution_count": null,
   "metadata": {},
   "outputs": [],
   "source": []
  },
  {
   "cell_type": "code",
   "execution_count": 11,
   "metadata": {},
   "outputs": [
    {
     "name": "stdout",
     "output_type": "stream",
     "text": [
      "2.5\n",
      "\n",
      "ALL GOOD\n",
      "Marte Marte raaz bta k jaunga\n",
      "\n",
      "kaam ho gaya\n"
     ]
    }
   ],
   "source": [
    "try:\n",
    "    a = 10\n",
    "    b = int(input(\"Enter the number : \"))\n",
    "    print(a/b)\n",
    "except ValueError as err:\n",
    "    print(str(err) + f\"\\nthe entered value is {b}\" + \"\\nException handelled\")\n",
    "except ZeroDivisionError as err:\n",
    "    print(str(err) + f\"\\nthe entered value is {b}\" + \"\\nException handelled\")\n",
    "except KeyboardInterrupt as err:\n",
    "    print('Oh!! aap kam nii kr skte')\n",
    "except Exception as err:\n",
    "    print(str(err) + f\"\\nthe entered value is {b}\" + \"\\nException handelled\")\n",
    "else:\n",
    "    print(\"\\nALL GOOD\")\n",
    "finally:\n",
    "    print('Marte Marte raaz bta k jaunga')\n",
    "print(\"\\nkaam ho gaya\")"
   ]
  },
  {
   "cell_type": "code",
   "execution_count": null,
   "metadata": {},
   "outputs": [],
   "source": []
  },
  {
   "cell_type": "code",
   "execution_count": 13,
   "metadata": {},
   "outputs": [
    {
     "name": "stdout",
     "output_type": "stream",
     "text": [
      "invalid literal for int() with base 10: 's'\n",
      "the entered value is 4\n",
      "Exception handelled\n",
      "Marte Marte raaz bta k jaunga\n",
      "\n",
      "kaam ho gaya\n"
     ]
    }
   ],
   "source": [
    "try:\n",
    "    a = 10\n",
    "    b = int(input(\"Enter the number : \"))\n",
    "    print(a/b)\n",
    "except ValueError as err:\n",
    "    print(str(err) + f\"\\nthe entered value is {b}\" + \"\\nException handelled\")\n",
    "except ZeroDivisionError as err:\n",
    "    print(str(err) + f\"\\nthe entered value is {b}\" + \"\\nException handelled\")\n",
    "except KeyboardInterrupt as err:\n",
    "    print('Oh!! aap kam nii kr skte')\n",
    "except Exception as err:\n",
    "    print(str(err) + f\"\\nthe entered value is {b}\" + \"\\nException handelled\")\n",
    "else:\n",
    "    print(\"\\nALL GOOD\")\n",
    "finally:\n",
    "    print('Marte Marte raaz bta k jaunga')\n",
    "print(\"\\nkaam ho gaya\")"
   ]
  },
  {
   "cell_type": "code",
   "execution_count": 65,
   "metadata": {},
   "outputs": [],
   "source": [
    "# Scope of variable\n",
    "\n",
    "\n",
    "## In Python a function can be \n",
    "#### assigned to a variable\n",
    "#### can be passed as an argument to a function\n",
    "#### can be defined inside another function\n",
    "#### returned from another function "
   ]
  },
  {
   "cell_type": "code",
   "execution_count": 66,
   "metadata": {},
   "outputs": [
    {
     "name": "stdout",
     "output_type": "stream",
     "text": [
      "10\n",
      "10\n"
     ]
    }
   ],
   "source": [
    "a = 10\n",
    "def xyz():\n",
    "    print(a)\n",
    "print(a)\n",
    "xyz()"
   ]
  },
  {
   "cell_type": "code",
   "execution_count": 71,
   "metadata": {},
   "outputs": [
    {
     "name": "stdout",
     "output_type": "stream",
     "text": [
      "10\n",
      "30\n",
      "30\n"
     ]
    }
   ],
   "source": [
    "a = 10\n",
    "def xyz():\n",
    "    global a\n",
    "    a += 20    \n",
    "    print(a)\n",
    "print(a)\n",
    "xyz()\n",
    "print(a)"
   ]
  },
  {
   "cell_type": "code",
   "execution_count": 74,
   "metadata": {},
   "outputs": [],
   "source": [
    "def abc(x,y):\n",
    "    return x+y"
   ]
  },
  {
   "cell_type": "code",
   "execution_count": 76,
   "metadata": {},
   "outputs": [],
   "source": [
    "#k = abc(3,4)\n",
    "k = abc"
   ]
  },
  {
   "cell_type": "code",
   "execution_count": 77,
   "metadata": {},
   "outputs": [
    {
     "data": {
      "text/plain": [
       "<function __main__.abc(x, y)>"
      ]
     },
     "execution_count": 77,
     "metadata": {},
     "output_type": "execute_result"
    }
   ],
   "source": [
    "abc"
   ]
  },
  {
   "cell_type": "code",
   "execution_count": 78,
   "metadata": {},
   "outputs": [
    {
     "data": {
      "text/plain": [
       "<function __main__.abc(x, y)>"
      ]
     },
     "execution_count": 78,
     "metadata": {},
     "output_type": "execute_result"
    }
   ],
   "source": [
    "k"
   ]
  },
  {
   "cell_type": "code",
   "execution_count": 7,
   "metadata": {},
   "outputs": [
    {
     "name": "stdout",
     "output_type": "stream",
     "text": [
      "this is\n"
     ]
    }
   ],
   "source": [
    "def a():\n",
    "    print(\"this is\")\n",
    "\n",
    "k = a\n",
    "k()"
   ]
  },
  {
   "cell_type": "code",
   "execution_count": 84,
   "metadata": {},
   "outputs": [],
   "source": [
    "def pot():\n",
    "    print(\"pot\")"
   ]
  },
  {
   "cell_type": "code",
   "execution_count": 85,
   "metadata": {},
   "outputs": [],
   "source": [
    "def pqr(f):\n",
    "    f()"
   ]
  },
  {
   "cell_type": "code",
   "execution_count": 86,
   "metadata": {},
   "outputs": [
    {
     "name": "stdout",
     "output_type": "stream",
     "text": [
      "pot\n"
     ]
    }
   ],
   "source": [
    "pqr(pot)"
   ]
  },
  {
   "cell_type": "code",
   "execution_count": 11,
   "metadata": {},
   "outputs": [],
   "source": [
    "# A function can be passed as an argument to the function\n",
    "def fun():\n",
    "    print('this is the passed function')"
   ]
  },
  {
   "cell_type": "code",
   "execution_count": 13,
   "metadata": {},
   "outputs": [],
   "source": [
    "def call_fun(p_fun):\n",
    "    p_fun()"
   ]
  },
  {
   "cell_type": "code",
   "execution_count": 14,
   "metadata": {},
   "outputs": [
    {
     "name": "stdout",
     "output_type": "stream",
     "text": [
      "this is the passed function\n"
     ]
    }
   ],
   "source": [
    "call_fun(fun)"
   ]
  },
  {
   "cell_type": "code",
   "execution_count": null,
   "metadata": {},
   "outputs": [],
   "source": []
  },
  {
   "cell_type": "code",
   "execution_count": 87,
   "metadata": {},
   "outputs": [
    {
     "name": "stdout",
     "output_type": "stream",
     "text": [
      "nox\n"
     ]
    }
   ],
   "source": [
    "def basket():\n",
    "    def dox():\n",
    "        print('nox')\n",
    "    dox()\n",
    "\n",
    "basket()"
   ]
  },
  {
   "cell_type": "code",
   "execution_count": 88,
   "metadata": {},
   "outputs": [],
   "source": [
    "def awesome(f, m, n):\n",
    "    return f, m+n"
   ]
  },
  {
   "cell_type": "code",
   "execution_count": 90,
   "metadata": {},
   "outputs": [],
   "source": [
    "p = awesome(pot, 3,4)"
   ]
  },
  {
   "cell_type": "code",
   "execution_count": 91,
   "metadata": {},
   "outputs": [
    {
     "name": "stdout",
     "output_type": "stream",
     "text": [
      "pot\n"
     ]
    }
   ],
   "source": [
    "p[0]()"
   ]
  },
  {
   "cell_type": "code",
   "execution_count": null,
   "metadata": {},
   "outputs": [],
   "source": []
  },
  {
   "cell_type": "code",
   "execution_count": 15,
   "metadata": {},
   "outputs": [],
   "source": [
    "def fun():\n",
    "    print('this is the passed function')"
   ]
  },
  {
   "cell_type": "code",
   "execution_count": 16,
   "metadata": {},
   "outputs": [],
   "source": [
    "def c_fun(f, m, n):\n",
    "    return f, m+n"
   ]
  },
  {
   "cell_type": "code",
   "execution_count": 24,
   "metadata": {},
   "outputs": [
    {
     "name": "stdout",
     "output_type": "stream",
     "text": [
      "5\n",
      "this is the passed function\n"
     ]
    }
   ],
   "source": [
    "p = c_fun(fun, 2, 3)\n",
    "print(p[1])\n",
    "p[0]()\n"
   ]
  },
  {
   "cell_type": "code",
   "execution_count": 25,
   "metadata": {},
   "outputs": [
    {
     "name": "stdout",
     "output_type": "stream",
     "text": [
      "this is the passed function\n",
      "5\n"
     ]
    }
   ],
   "source": [
    "# or we can do like this\n",
    "p, val = c_fun(fun, 2, 3)\n",
    "p()\n",
    "print(val)"
   ]
  },
  {
   "cell_type": "code",
   "execution_count": null,
   "metadata": {},
   "outputs": [],
   "source": []
  },
  {
   "cell_type": "code",
   "execution_count": 95,
   "metadata": {},
   "outputs": [],
   "source": [
    "####  DECORATOR  ----> it is a concept in python which might help for inheritance\n",
    "def decorate(f):\n",
    "    def special():\n",
    "        print('ye to special hai')\n",
    "        f()\n",
    "        print('Decorate ho gya')\n",
    "    return special"
   ]
  },
  {
   "cell_type": "code",
   "execution_count": 99,
   "metadata": {},
   "outputs": [],
   "source": [
    "def simple():\n",
    "    print('mein to bhoot simple hu')\n",
    "\n",
    "simple=decorate(simple)"
   ]
  },
  {
   "cell_type": "code",
   "execution_count": 100,
   "metadata": {},
   "outputs": [
    {
     "name": "stdout",
     "output_type": "stream",
     "text": [
      "ye to special hai\n",
      "mein to bhoot simple hu\n",
      "Decorate ho gya\n"
     ]
    }
   ],
   "source": [
    "simple()"
   ]
  },
  {
   "cell_type": "code",
   "execution_count": 8,
   "metadata": {},
   "outputs": [],
   "source": [
    "####  DECORATOR  ----> it is a concept in python which might help for inheritance\n",
    "def nayaWala(f):\n",
    "    def special():\n",
    "        print('ye to special hai')\n",
    "        f()\n",
    "        print('Decorate ho gya')\n",
    "    return special"
   ]
  },
  {
   "cell_type": "code",
   "execution_count": 13,
   "metadata": {},
   "outputs": [
    {
     "name": "stdout",
     "output_type": "stream",
     "text": [
      "ye to special hai\n",
      "ye to special hai\n",
      "mein to bhoot simple hu\n",
      "Decorate ho gya\n",
      "Decorate ho gya\n"
     ]
    }
   ],
   "source": [
    "@nayaWala\n",
    "@nayaWala\n",
    "def simple():\n",
    "    print('mein to bhoot simple hu')\n",
    "\n",
    "simple()\n",
    "\n",
    "# simple=decorate(simple)"
   ]
  },
  {
   "cell_type": "code",
   "execution_count": 107,
   "metadata": {},
   "outputs": [
    {
     "name": "stdout",
     "output_type": "stream",
     "text": [
      "ye to special hai\n",
      "ye to special hai\n",
      "ye to special hai\n",
      "mein to bhoot simple hu\n",
      "Decorate ho gya\n",
      "Decorate ho gya\n",
      "Decorate ho gya\n"
     ]
    }
   ],
   "source": [
    "simple()"
   ]
  },
  {
   "cell_type": "code",
   "execution_count": 111,
   "metadata": {},
   "outputs": [],
   "source": [
    "def akii():\n",
    "    print('akshay')"
   ]
  },
  {
   "cell_type": "code",
   "execution_count": 112,
   "metadata": {},
   "outputs": [],
   "source": [
    "def dec1(f):\n",
    "    def fun():\n",
    "        print('this is inside dec fun')\n",
    "        f()\n",
    "        print('decorate is done')\n",
    "    return fun"
   ]
  },
  {
   "cell_type": "code",
   "execution_count": 113,
   "metadata": {},
   "outputs": [],
   "source": [
    "k = dec1(akii)"
   ]
  },
  {
   "cell_type": "code",
   "execution_count": 114,
   "metadata": {},
   "outputs": [
    {
     "name": "stdout",
     "output_type": "stream",
     "text": [
      "this is inside dec fun\n",
      "akshay\n",
      "decorate is done\n"
     ]
    }
   ],
   "source": [
    "k()"
   ]
  },
  {
   "cell_type": "code",
   "execution_count": null,
   "metadata": {},
   "outputs": [],
   "source": []
  },
  {
   "cell_type": "code",
   "execution_count": 1,
   "metadata": {},
   "outputs": [],
   "source": [
    "# DECORATORS FROM CWH"
   ]
  },
  {
   "cell_type": "code",
   "execution_count": 9,
   "metadata": {},
   "outputs": [
    {
     "name": "stdout",
     "output_type": "stream",
     "text": [
      "Good Morning\n",
      "Hello World\n",
      "Thanks for using this function\n"
     ]
    }
   ],
   "source": [
    "def greet(fx):\n",
    "    def mfx():\n",
    "        print(\"Good Morning\")\n",
    "        fx()\n",
    "        print(\"Thanks for using this function\")\n",
    "    return mfx\n",
    "\n",
    "@greet\n",
    "def hello():\n",
    "    print(\"Hello World\")\n",
    "\n",
    "hello()\n"
   ]
  },
  {
   "cell_type": "code",
   "execution_count": 10,
   "metadata": {},
   "outputs": [
    {
     "name": "stdout",
     "output_type": "stream",
     "text": [
      "Hello Mr. \n",
      "Akshay sharma\n",
      "Have a good day\n"
     ]
    }
   ],
   "source": [
    "# ABOVE CODE IS SIMILAR TO THIS CODE\n",
    "\n",
    "def decorate(fx):\n",
    "    def mfx():\n",
    "        print(\"Hello Mr. \")\n",
    "        fx()\n",
    "        print(\"Have a good day\")\n",
    "    return mfx\n",
    "\n",
    "def hello():\n",
    "    print(\"Akshay sharma\")\n",
    "\n",
    "decorate(hello)()\n"
   ]
  },
  {
   "cell_type": "code",
   "execution_count": 18,
   "metadata": {},
   "outputs": [
    {
     "name": "stdout",
     "output_type": "stream",
     "text": [
      "we are going to add\n",
      "3\n",
      "Done\n",
      "we are going to add\n",
      "3\n",
      "Done\n"
     ]
    }
   ],
   "source": [
    "def decorator(fx):\n",
    "    def mfx(*args,**kwargs):\n",
    "        print(\"we are going to add\")\n",
    "        fx(*args,**kwargs)\n",
    "        print(\"Done\")\n",
    "    return mfx\n",
    "\n",
    "#@decorator\n",
    "def add(a,b):\n",
    "    print(a+b)\n",
    "\n",
    "decorator(add)(1,2)\n",
    "\n",
    "\n",
    "# both code do similar work\n",
    "\n",
    "\n",
    "def decorator(fx):\n",
    "    def mfx(*args,**kwargs):\n",
    "        print(\"we are going to add\")\n",
    "        fx(*args, **kwargs)\n",
    "        print(\"Done\")\n",
    "    return mfx\n",
    "\n",
    "@decorator\n",
    "def add(a,b):\n",
    "    print(a+b)\n",
    "\n",
    "add(1,2)\n"
   ]
  },
  {
   "cell_type": "code",
   "execution_count": null,
   "metadata": {},
   "outputs": [],
   "source": []
  },
  {
   "cell_type": "code",
   "execution_count": 118,
   "metadata": {},
   "outputs": [],
   "source": [
    "## Annonymous Functions\n",
    "#######################\n",
    "# Lambda Expression                              these are one liners\n",
    "\n",
    "\n",
    "# lambda ip_args: op_args                      op_args behaviour is that they are always returned"
   ]
  },
  {
   "cell_type": "code",
   "execution_count": 119,
   "metadata": {},
   "outputs": [
    {
     "name": "stdout",
     "output_type": "stream",
     "text": [
      "12\n"
     ]
    }
   ],
   "source": [
    "def normal(x,y):\n",
    "    return x*y\n",
    "\n",
    "m = normal(3,4)\n",
    "print(m)"
   ]
  },
  {
   "cell_type": "code",
   "execution_count": 123,
   "metadata": {},
   "outputs": [
    {
     "data": {
      "text/plain": [
       "20"
      ]
     },
     "execution_count": 123,
     "metadata": {},
     "output_type": "execute_result"
    }
   ],
   "source": [
    "normals = lambda x, y: x * y\n",
    "normals(4,5)"
   ]
  },
  {
   "cell_type": "code",
   "execution_count": 3,
   "metadata": {},
   "outputs": [
    {
     "name": "stdout",
     "output_type": "stream",
     "text": [
      "4\n",
      "2.0\n",
      "15\n"
     ]
    }
   ],
   "source": [
    "double = lambda x,y: x*y\n",
    "print(double(2,2))\n",
    "\n",
    "avg = lambda x,y,z: (x + y + z)/3\n",
    "print(avg(1,2,3))\n",
    "\n",
    "def appl(fun, val):\n",
    "    return 6 + fun(val)\n",
    "\n",
    "print(appl(lambda x : x*x,3))"
   ]
  },
  {
   "cell_type": "code",
   "execution_count": null,
   "metadata": {},
   "outputs": [],
   "source": []
  },
  {
   "cell_type": "code",
   "execution_count": 15,
   "metadata": {},
   "outputs": [
    {
     "name": "stdout",
     "output_type": "stream",
     "text": [
      "[12, 14, 8, 6, 6, 10]\n",
      "[3.0, 14, 2.0, 6, 6, 10]\n",
      "['6', '7', '4', '3', '3', '5']\n"
     ]
    }
   ],
   "source": [
    "def my_mapper(fun, values):\n",
    "    result = []\n",
    "    for value in values:\n",
    "        result += [fun(value)]\n",
    "    return result\n",
    "\n",
    "\n",
    "def first(v):\n",
    "    return v*2\n",
    "def second(v):\n",
    "    return v*2 if v%2 else v/2\n",
    "def third(v):\n",
    "    return str(v)\n",
    "\n",
    "print(my_mapper(first,data))\n",
    "print(my_mapper(second,data))\n",
    "print(my_mapper(third,data))"
   ]
  },
  {
   "cell_type": "code",
   "execution_count": 16,
   "metadata": {},
   "outputs": [
    {
     "name": "stdout",
     "output_type": "stream",
     "text": [
      "[6, 7, 4, 3, 3, 5]\n",
      "[36, 49, 16, 9, 9, 25]\n",
      "['6', '7', '4', '3', '3', '5']\n",
      "[3.0, 14, 2.0, 6, 6, 10]\n"
     ]
    }
   ],
   "source": [
    "def my_mapper(fun, values):\n",
    "    result = []\n",
    "    for value in values:\n",
    "        result += [fun(value)]\n",
    "    return result\n",
    "\n",
    "data = [6,7,4,3,3,5]\n",
    "print(data)\n",
    "print(my_mapper(lambda x: x*x, data))\n",
    "print(my_mapper(lambda x: str(x), data))\n",
    "print(my_mapper(lambda x: x*2 if x%2 else x/2, data))"
   ]
  },
  {
   "cell_type": "code",
   "execution_count": 126,
   "metadata": {},
   "outputs": [],
   "source": []
  },
  {
   "cell_type": "code",
   "execution_count": null,
   "metadata": {},
   "outputs": [],
   "source": []
  }
 ],
 "metadata": {
  "kernelspec": {
   "display_name": "Python 3",
   "language": "python",
   "name": "python3"
  },
  "language_info": {
   "codemirror_mode": {
    "name": "ipython",
    "version": 3
   },
   "file_extension": ".py",
   "mimetype": "text/x-python",
   "name": "python",
   "nbconvert_exporter": "python",
   "pygments_lexer": "ipython3",
   "version": "3.10.11"
  },
  "orig_nbformat": 4
 },
 "nbformat": 4,
 "nbformat_minor": 2
}
