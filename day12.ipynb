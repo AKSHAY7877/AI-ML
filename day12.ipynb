{
 "cells": [
  {
   "cell_type": "code",
   "execution_count": null,
   "metadata": {},
   "outputs": [],
   "source": [
    "#  Summary\n",
    "################\n",
    "# Image Acquire\n",
    "# Color Plane Extraction & Gray Conversion\n",
    "# Image subtraction to fetch specific order\n",
    "# Thresholding to convert to BW - CRITICAL\n",
    "# Area/Region of Interest (ROI) - CRITICAL\n",
    "    # Dilation/ Erosion/ Opening/Closing (combinations)\n",
    "    # Noise Removal/Holes Filling\n",
    "# Find the Region properties\n",
    "    # Label the image\n",
    "    # RegionProps (Boundary Box) (y1,x1,y2,x2)\n",
    "# Draw the rectangle over Original Image based on bbox"
   ]
  },
  {
   "cell_type": "code",
   "execution_count": 6,
   "metadata": {},
   "outputs": [],
   "source": [
    "# Live Image Capturing\n",
    "import cv2, skimage as ski\n",
    "vid = cv2.VideoCapture(0)\n",
    "while True:\n",
    "    ack, img = vid.read()               # if it reads then ack value will get updated as True otherwise False\n",
    "    if ack:\n",
    "        # do the entire processing code whenever required\n",
    "\n",
    "        cv2.imshow('Preview', img)      # depends on requirement\n",
    "        key = cv2.waitKey(1)\n",
    "        if key == ord('x'):\n",
    "            break\n",
    "\n",
    "cv2.destroyAllWindows()\n",
    "vid.release()"
   ]
  },
  {
   "cell_type": "code",
   "execution_count": 36,
   "metadata": {},
   "outputs": [],
   "source": [
    "# Live Image Capturing\n",
    "import cv2, skimage as ski\n",
    "vid = cv2.VideoCapture(0)\n",
    "while True:\n",
    "    ack, img = vid.read()               # if it reads then ack value will get updated as True otherwise False\n",
    "    if ack:\n",
    "        # do the entire processing code whenever required\n",
    "        th, red_bw = cv2.threshold(cv2.subtract(img[:,:,-3], cv2.cvtColor(img, cv2.COLOR_BGR2GRAY)\n",
    "                                ), 20, 255, cv2.THRESH_BINARY\n",
    "                            )\n",
    "\n",
    "        strel = cv2.getStructuringElement(cv2.MORPH_RECT, (20,20))\n",
    "        red_bw = cv2.morphologyEx(\n",
    "            red_bw, cv2.MORPH_CLOSE, strel, iterations = 1\n",
    "            )\n",
    "        red_bw = ski.morphology.remove_small_objects(red_bw.astype(bool),1000).astype('uint8')*255                 #RECOMMENDED\n",
    "        red_bw = ski.morphology.remove_small_holes(red_bw.astype(bool),1000).astype('uint8')*255             \n",
    "        \n",
    "        rps = ski.measure.regionprops(ski.measure.label(red_bw.astype(bool)))\n",
    "        count = len(rps)\n",
    "        img_copy = img.copy()\n",
    "        cv2.putText(\n",
    "                    img_copy, str(count),(150,150), \n",
    "                    cv2.FONT_HERSHEY_PLAIN, 7, (0,0,255), thickness=10\n",
    "            )\n",
    "        for rp in rps:\n",
    "            y1,x1,y2,x2 = rp.bbox\n",
    "            cv2.rectangle(img_copy, (x1,y1,x2,y2),(0,0,255), thickness=5)\n",
    "\n",
    "        cv2.imshow('Preview', img_copy)      # depends on requirement\n",
    "        key = cv2.waitKey(1)\n",
    "        if key == ord('x'):\n",
    "            break\n",
    "\n",
    "cv2.destroyAllWindows()\n",
    "vid.release()"
   ]
  },
  {
   "cell_type": "code",
   "execution_count": null,
   "metadata": {},
   "outputs": [],
   "source": []
  },
  {
   "cell_type": "code",
   "execution_count": 41,
   "metadata": {},
   "outputs": [],
   "source": [
    "# FACE DETECTION - Viola-jones algo(Haarcascade features)\n",
    "\n",
    "import cv2\n",
    "fd = cv2.CascadeClassifier(cv2.data.haarcascades + 'haarcascade_frontalface_default.xml')   \n",
    "\n",
    "vid = cv2.VideoCapture(0)\n",
    "while True:\n",
    "    ack, img = vid.read()               # if it reads then ack value will get updated as True otherwise False\n",
    "    if ack:\n",
    "        faces = fd.detectMultiScale(img,1.2,10)             # it returns coordinates at x,y,w,h,     1.2 scales it and 10 matches its neighbours\n",
    "        for x, y, w, h in faces:\n",
    "            cv2.rectangle(img, (x,y), (x+w,y+h), (255,255,255),10)\n",
    "\n",
    "        cv2.imshow('Preview', img)      # depends on requirement\n",
    "        key = cv2.waitKey(1)\n",
    "        if key == ord('x'):\n",
    "            break\n",
    "\n",
    "cv2.destroyAllWindows()\n",
    "vid.release()"
   ]
  },
  {
   "cell_type": "code",
   "execution_count": 2,
   "metadata": {},
   "outputs": [],
   "source": [
    "# FACE DETECTION AND SAVING\n",
    "\n",
    "import cv2\n",
    "fd = cv2.CascadeClassifier(cv2.data.haarcascades + 'haarcascade_frontalface_default.xml')   \n",
    "counter = 0\n",
    "vid = cv2.VideoCapture(0)\n",
    "while True:\n",
    "    ack, img = vid.read()               # if it reads then ack value will get updated as True otherwise False\n",
    "    if ack:\n",
    "        faces = fd.detectMultiScale(img,1.2,10)             # it returns coordinates at x,y,w,h,     1.2 scales it and 10 matches its neighbours\n",
    "        if len(faces) == 1:\n",
    "            for x, y, w, h in faces:\n",
    "                counter += 1\n",
    "                cv2.rectangle(img, (x,y), (x+w,y+h), (255,255,255),10)\n",
    "            face_img = img[y:y+h, x:x+w, :].copy()          # slicing row, column, plane         \n",
    "            cv2.imwrite(r'faces/akshay/face_{0}.png'.format(counter), face_img)\n",
    "        cv2.imshow('Preview', img)      # depends on requirement\n",
    "        key = cv2.waitKey(1)\n",
    "        if key == ord('x'):\n",
    "            break\n",
    "\n",
    "cv2.destroyAllWindows()\n",
    "vid.release()"
   ]
  },
  {
   "cell_type": "code",
   "execution_count": null,
   "metadata": {},
   "outputs": [],
   "source": []
  }
 ],
 "metadata": {
  "kernelspec": {
   "display_name": "base",
   "language": "python",
   "name": "python3"
  },
  "language_info": {
   "codemirror_mode": {
    "name": "ipython",
    "version": 3
   },
   "file_extension": ".py",
   "mimetype": "text/x-python",
   "name": "python",
   "nbconvert_exporter": "python",
   "pygments_lexer": "ipython3",
   "version": "3.10.9"
  },
  "orig_nbformat": 4
 },
 "nbformat": 4,
 "nbformat_minor": 2
}
