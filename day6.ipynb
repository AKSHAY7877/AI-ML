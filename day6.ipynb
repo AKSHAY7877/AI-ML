{
 "cells": [
  {
   "cell_type": "code",
   "execution_count": 1,
   "metadata": {},
   "outputs": [],
   "source": [
    "### PEP\n",
    "# GeometricManagement - Class\n",
    "# geometric_management - function\n",
    "# geometricManagement - variable\n",
    "# GEOMETRIC_MANAGEMENT - constant"
   ]
  },
  {
   "cell_type": "code",
   "execution_count": 5,
   "metadata": {},
   "outputs": [],
   "source": [
    "## GUI Development ##\n",
    "######################\n",
    "import tkinter as ktr\n",
    "\n",
    "app = ktr.Tk(__name__)\n",
    "app.geometry('400x400')\n",
    "app.title('My First GUI')\n",
    "\n",
    "# Label, Entry, Button -> Geometric Management/Placement\n",
    "# pack(), grid(row=0, column=0), place(x=20, y=20)\n",
    "var1 = ktr.Variable()\n",
    "var1.set('Initial Value')\n",
    "\n",
    "# a = ktr.Label(app, text='Mera pehla Text')\n",
    "a = ktr.Label(app, textvariable=var1)\n",
    "\n",
    "var2 = ktr.Variable()\n",
    "ktr.Entry(app, textvariable=var2).grid(row=2, column=1)\n",
    "\n",
    "def putText():\n",
    "    var1.set(var2.get())\n",
    "ktr.Button(app, text='Put', command=putText).grid(row=2, column=1)\n",
    "\n",
    "#ktr.Label(app, text='Ye doosra tareeka hai').pack()\n",
    "ktr.Label(app, text='Ye doosra tareeka hai').grid(row=3, column=0)\n",
    "\n",
    "app.mainloop()"
   ]
  },
  {
   "cell_type": "code",
   "execution_count": null,
   "metadata": {},
   "outputs": [],
   "source": []
  }
 ],
 "metadata": {
  "kernelspec": {
   "display_name": "Python 3",
   "language": "python",
   "name": "python3"
  },
  "language_info": {
   "codemirror_mode": {
    "name": "ipython",
    "version": 3
   },
   "file_extension": ".py",
   "mimetype": "text/x-python",
   "name": "python",
   "nbconvert_exporter": "python",
   "pygments_lexer": "ipython3",
   "version": "3.10.11"
  },
  "orig_nbformat": 4
 },
 "nbformat": 4,
 "nbformat_minor": 2
}
